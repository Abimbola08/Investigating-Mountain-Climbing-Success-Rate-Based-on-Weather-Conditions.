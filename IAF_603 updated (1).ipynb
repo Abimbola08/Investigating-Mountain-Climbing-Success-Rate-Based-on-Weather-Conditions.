{
  "nbformat": 4,
  "nbformat_minor": 0,
  "metadata": {
    "colab": {
      "name": "IAF_603.ipynb",
      "provenance": [],
      "collapsed_sections": []
    },
    "kernelspec": {
      "name": "python3",
      "display_name": "Python 3"
    }
  },
  "cells": [
    {
      "cell_type": "code",
      "metadata": {
        "id": "-_w9LoXVXohW",
        "colab_type": "code",
        "colab": {}
      },
      "source": [
        "from functools import reduce\n",
        "import numpy as np # linear algebra\n",
        "import pandas as pd # data processing, CSV file I/O (e.g. pd.read_csv)\n",
        "import matplotlib.pyplot as plt # standard graphics\n",
        "import seaborn as sns # fancier graphics\n",
        "pd.set_option('display.max_columns',80)\n",
        "pd.set_option('display.max_rows',600)"
      ],
      "execution_count": 0,
      "outputs": []
    },
    {
      "cell_type": "code",
      "metadata": {
        "id": "gh7LKPS9YvME",
        "colab_type": "code",
        "outputId": "9952be4d-d55e-4cae-d3e6-3334ad11b782",
        "colab": {
          "base_uri": "https://localhost:8080/",
          "height": 54
        }
      },
      "source": [
        "#connect to Google Drive\n",
        "from google.colab import drive\n",
        "drive.mount('/content/drive')"
      ],
      "execution_count": 0,
      "outputs": [
        {
          "output_type": "stream",
          "text": [
            "Drive already mounted at /content/drive; to attempt to forcibly remount, call drive.mount(\"/content/drive\", force_remount=True).\n"
          ],
          "name": "stdout"
        }
      ]
    },
    {
      "cell_type": "code",
      "metadata": {
        "id": "fQuGeI6gXzgw",
        "colab_type": "code",
        "colab": {}
      },
      "source": [
        "df_climb = pd.read_csv('/content/drive/My Drive/climbing_statistics.csv')\n",
        "df_weather = pd.read_csv('/content/drive/My Drive/Rainier_Weather.csv')"
      ],
      "execution_count": 0,
      "outputs": []
    },
    {
      "cell_type": "code",
      "metadata": {
        "id": "7Db3Fq-EZn3t",
        "colab_type": "code",
        "outputId": "9c81c3ee-ed55-4c6d-e13d-5beb4c2305fc",
        "colab": {
          "base_uri": "https://localhost:8080/",
          "height": 195
        }
      },
      "source": [
        "df_climb.head()"
      ],
      "execution_count": 0,
      "outputs": [
        {
          "output_type": "execute_result",
          "data": {
            "text/html": [
              "<div>\n",
              "<style scoped>\n",
              "    .dataframe tbody tr th:only-of-type {\n",
              "        vertical-align: middle;\n",
              "    }\n",
              "\n",
              "    .dataframe tbody tr th {\n",
              "        vertical-align: top;\n",
              "    }\n",
              "\n",
              "    .dataframe thead th {\n",
              "        text-align: right;\n",
              "    }\n",
              "</style>\n",
              "<table border=\"1\" class=\"dataframe\">\n",
              "  <thead>\n",
              "    <tr style=\"text-align: right;\">\n",
              "      <th></th>\n",
              "      <th>date</th>\n",
              "      <th>Route</th>\n",
              "      <th>Attempted</th>\n",
              "      <th>Succeeded</th>\n",
              "      <th>Success Percentage</th>\n",
              "    </tr>\n",
              "  </thead>\n",
              "  <tbody>\n",
              "    <tr>\n",
              "      <th>0</th>\n",
              "      <td>11/27/2015</td>\n",
              "      <td>Disappointment Cleaver</td>\n",
              "      <td>2</td>\n",
              "      <td>0</td>\n",
              "      <td>0.0</td>\n",
              "    </tr>\n",
              "    <tr>\n",
              "      <th>1</th>\n",
              "      <td>11/21/2015</td>\n",
              "      <td>Disappointment Cleaver</td>\n",
              "      <td>3</td>\n",
              "      <td>0</td>\n",
              "      <td>0.0</td>\n",
              "    </tr>\n",
              "    <tr>\n",
              "      <th>2</th>\n",
              "      <td>10/15/2015</td>\n",
              "      <td>Disappointment Cleaver</td>\n",
              "      <td>2</td>\n",
              "      <td>0</td>\n",
              "      <td>0.0</td>\n",
              "    </tr>\n",
              "    <tr>\n",
              "      <th>3</th>\n",
              "      <td>10/13/2015</td>\n",
              "      <td>Little Tahoma</td>\n",
              "      <td>8</td>\n",
              "      <td>0</td>\n",
              "      <td>0.0</td>\n",
              "    </tr>\n",
              "    <tr>\n",
              "      <th>4</th>\n",
              "      <td>10/9/2015</td>\n",
              "      <td>Disappointment Cleaver</td>\n",
              "      <td>2</td>\n",
              "      <td>0</td>\n",
              "      <td>0.0</td>\n",
              "    </tr>\n",
              "  </tbody>\n",
              "</table>\n",
              "</div>"
            ],
            "text/plain": [
              "         date                   Route  Attempted  Succeeded  \\\n",
              "0  11/27/2015  Disappointment Cleaver          2          0   \n",
              "1  11/21/2015  Disappointment Cleaver          3          0   \n",
              "2  10/15/2015  Disappointment Cleaver          2          0   \n",
              "3  10/13/2015           Little Tahoma          8          0   \n",
              "4   10/9/2015  Disappointment Cleaver          2          0   \n",
              "\n",
              "   Success Percentage  \n",
              "0                 0.0  \n",
              "1                 0.0  \n",
              "2                 0.0  \n",
              "3                 0.0  \n",
              "4                 0.0  "
            ]
          },
          "metadata": {
            "tags": []
          },
          "execution_count": 4
        }
      ]
    },
    {
      "cell_type": "code",
      "metadata": {
        "id": "gtPnMJaXalse",
        "colab_type": "code",
        "outputId": "6e28ef7f-23f4-4ef0-963b-34ea263a528a",
        "colab": {
          "base_uri": "https://localhost:8080/",
          "height": 122
        }
      },
      "source": [
        "df_climb.dtypes"
      ],
      "execution_count": 0,
      "outputs": [
        {
          "output_type": "execute_result",
          "data": {
            "text/plain": [
              "date                   object\n",
              "Route                  object\n",
              "Attempted               int64\n",
              "Succeeded               int64\n",
              "Success Percentage    float64\n",
              "dtype: object"
            ]
          },
          "metadata": {
            "tags": []
          },
          "execution_count": 5
        }
      ]
    },
    {
      "cell_type": "code",
      "metadata": {
        "id": "H17yJZV9ZrXW",
        "colab_type": "code",
        "outputId": "abb3911a-4977-4428-fc69-9001a7b43098",
        "colab": {
          "base_uri": "https://localhost:8080/",
          "height": 212
        }
      },
      "source": [
        "df_weather.head()"
      ],
      "execution_count": 0,
      "outputs": [
        {
          "output_type": "execute_result",
          "data": {
            "text/html": [
              "<div>\n",
              "<style scoped>\n",
              "    .dataframe tbody tr th:only-of-type {\n",
              "        vertical-align: middle;\n",
              "    }\n",
              "\n",
              "    .dataframe tbody tr th {\n",
              "        vertical-align: top;\n",
              "    }\n",
              "\n",
              "    .dataframe thead th {\n",
              "        text-align: right;\n",
              "    }\n",
              "</style>\n",
              "<table border=\"1\" class=\"dataframe\">\n",
              "  <thead>\n",
              "    <tr style=\"text-align: right;\">\n",
              "      <th></th>\n",
              "      <th>Date</th>\n",
              "      <th>Battery Voltage AVG</th>\n",
              "      <th>Temperature AVG</th>\n",
              "      <th>Relative Humidity AVG</th>\n",
              "      <th>Wind Speed Daily AVG</th>\n",
              "      <th>Wind Direction AVG</th>\n",
              "      <th>Solare Radiation AVG</th>\n",
              "    </tr>\n",
              "  </thead>\n",
              "  <tbody>\n",
              "    <tr>\n",
              "      <th>0</th>\n",
              "      <td>12/31/2015</td>\n",
              "      <td>13.845000</td>\n",
              "      <td>19.062917</td>\n",
              "      <td>21.870833</td>\n",
              "      <td>21.977792</td>\n",
              "      <td>62.325833</td>\n",
              "      <td>84.915292</td>\n",
              "    </tr>\n",
              "    <tr>\n",
              "      <th>1</th>\n",
              "      <td>12/30/2015</td>\n",
              "      <td>13.822917</td>\n",
              "      <td>14.631208</td>\n",
              "      <td>18.493833</td>\n",
              "      <td>3.540542</td>\n",
              "      <td>121.505417</td>\n",
              "      <td>86.192833</td>\n",
              "    </tr>\n",
              "    <tr>\n",
              "      <th>2</th>\n",
              "      <td>12/29/2015</td>\n",
              "      <td>13.834583</td>\n",
              "      <td>6.614292</td>\n",
              "      <td>34.072917</td>\n",
              "      <td>0.000000</td>\n",
              "      <td>130.291667</td>\n",
              "      <td>85.100917</td>\n",
              "    </tr>\n",
              "    <tr>\n",
              "      <th>3</th>\n",
              "      <td>12/28/2015</td>\n",
              "      <td>13.710417</td>\n",
              "      <td>8.687042</td>\n",
              "      <td>70.557917</td>\n",
              "      <td>0.000000</td>\n",
              "      <td>164.683750</td>\n",
              "      <td>86.241250</td>\n",
              "    </tr>\n",
              "    <tr>\n",
              "      <th>4</th>\n",
              "      <td>12/27/2015</td>\n",
              "      <td>13.362500</td>\n",
              "      <td>14.140417</td>\n",
              "      <td>95.754167</td>\n",
              "      <td>0.000000</td>\n",
              "      <td>268.479167</td>\n",
              "      <td>31.090708</td>\n",
              "    </tr>\n",
              "  </tbody>\n",
              "</table>\n",
              "</div>"
            ],
            "text/plain": [
              "         Date  Battery Voltage AVG  Temperature AVG  Relative Humidity AVG  \\\n",
              "0  12/31/2015            13.845000        19.062917              21.870833   \n",
              "1  12/30/2015            13.822917        14.631208              18.493833   \n",
              "2  12/29/2015            13.834583         6.614292              34.072917   \n",
              "3  12/28/2015            13.710417         8.687042              70.557917   \n",
              "4  12/27/2015            13.362500        14.140417              95.754167   \n",
              "\n",
              "   Wind Speed Daily AVG  Wind Direction AVG  Solare Radiation AVG  \n",
              "0             21.977792           62.325833             84.915292  \n",
              "1              3.540542          121.505417             86.192833  \n",
              "2              0.000000          130.291667             85.100917  \n",
              "3              0.000000          164.683750             86.241250  \n",
              "4              0.000000          268.479167             31.090708  "
            ]
          },
          "metadata": {
            "tags": []
          },
          "execution_count": 6
        }
      ]
    },
    {
      "cell_type": "code",
      "metadata": {
        "id": "W6-Svnj4aNnn",
        "colab_type": "code",
        "outputId": "13f269f6-66ce-43da-8d0c-3c0810df0537",
        "colab": {
          "base_uri": "https://localhost:8080/",
          "height": 158
        }
      },
      "source": [
        "df_weather.dtypes"
      ],
      "execution_count": 0,
      "outputs": [
        {
          "output_type": "execute_result",
          "data": {
            "text/plain": [
              "Date                      object\n",
              "Battery Voltage AVG      float64\n",
              "Temperature AVG          float64\n",
              "Relative Humidity AVG    float64\n",
              "Wind Speed Daily AVG     float64\n",
              "Wind Direction AVG       float64\n",
              "Solare Radiation AVG     float64\n",
              "dtype: object"
            ]
          },
          "metadata": {
            "tags": []
          },
          "execution_count": 7
        }
      ]
    },
    {
      "cell_type": "code",
      "metadata": {
        "id": "gtUB_OX_bJTP",
        "colab_type": "code",
        "colab": {}
      },
      "source": [
        "import sqlite3"
      ],
      "execution_count": 0,
      "outputs": []
    },
    {
      "cell_type": "code",
      "metadata": {
        "id": "dr0DawgdbKp3",
        "colab_type": "code",
        "outputId": "9bdb473b-7a48-4ee1-d4f7-185953adda1f",
        "colab": {
          "base_uri": "https://localhost:8080/",
          "height": 52
        }
      },
      "source": [
        "conn = sqlite3.connect(\"climb_weather.db\")\n",
        "conn.execute(\"DROP TABLE IF EXISTS `climb`\")\n",
        "print(\"climb Table dropped\")\n",
        "conn.close()\n",
        "\n",
        "conn = sqlite3.connect(\"climb_weather.db\")\n",
        "conn.execute(\"DROP TABLE IF EXISTS `weather`\")\n",
        "print(\"weather Table dropped\")\n",
        "conn.close()"
      ],
      "execution_count": 0,
      "outputs": [
        {
          "output_type": "stream",
          "text": [
            "climb Table dropped\n",
            "weather Table dropped\n"
          ],
          "name": "stdout"
        }
      ]
    },
    {
      "cell_type": "code",
      "metadata": {
        "id": "ywpxrdZZbdx7",
        "colab_type": "code",
        "outputId": "6053fa22-bd49-4b61-f3db-7de41e894b03",
        "colab": {
          "base_uri": "https://localhost:8080/",
          "height": 52
        }
      },
      "source": [
        "conn = sqlite3.connect(\"climb_weather.db\")\n",
        "try:\n",
        "  conn.execute('''\n",
        "      CREATE TABLE climb\n",
        "      (date                TEXT    NOT NULL,\n",
        "       route               TEXT    NOT NULL,\n",
        "       attempted           FLOAT   DEFAULT 0,\n",
        "       succeeded           FLOAT   DEFAULT 0,\n",
        "       succeeded_rate      FLOAT   DEFAULT 0\n",
        "       );''')\n",
        "  print(\"climb Table created successfully\")\n",
        "except Exception as e:\n",
        "  print(str(e))\n",
        "  print('climb Table creation failed!!!')\n",
        "finally:\n",
        "  conn.close()\n",
        "\n",
        "conn = sqlite3.connect(\"climb_weather.db\")\n",
        "try:\n",
        "  conn.execute('''\n",
        "      CREATE TABLE weather\n",
        "      (Date               TEXT    NOT NULL,\n",
        "       battery_v          FLOAT   DEFAULT 0,     \n",
        "       temperature        FLOAT   DEFAULT 0,     \n",
        "       humidity           FLOAT   DEFAULT 0,     \n",
        "       wind_speed         FLOAT   DEFAULT 0,     \n",
        "       wind_direct        FLOAT   DEFAULT 0,     \n",
        "       solar              FLOAT   DEFAULT 0\n",
        "       );''')\n",
        "  print(\"weather Table created successfully\")\n",
        "except Exception as e:\n",
        "  print(str(e))\n",
        "  print('weather Table creation failed!!!')\n",
        "finally:\n",
        "  conn.close()"
      ],
      "execution_count": 0,
      "outputs": [
        {
          "output_type": "stream",
          "text": [
            "climb Table created successfully\n",
            "weather Table created successfully\n"
          ],
          "name": "stdout"
        }
      ]
    },
    {
      "cell_type": "code",
      "metadata": {
        "id": "N-EM9x3Jc-Xc",
        "colab_type": "code",
        "colab": {}
      },
      "source": [
        "climb_list = df_climb.values.tolist()\n",
        "weather_list = df_weather.values.tolist()"
      ],
      "execution_count": 0,
      "outputs": []
    },
    {
      "cell_type": "code",
      "metadata": {
        "id": "lKz9AOradLAy",
        "colab_type": "code",
        "outputId": "9e2d5ced-c9fc-44b5-d6f4-e3f7e466d191",
        "colab": {
          "base_uri": "https://localhost:8080/",
          "height": 52
        }
      },
      "source": [
        "conn = sqlite3.connect(\"climb_weather.db\")\n",
        "\n",
        "cursor = conn.cursor()\n",
        "\n",
        "try:\n",
        "  cursor.executemany('''\n",
        "        INSERT INTO climb (date, route, attempted, succeeded, succeeded_rate)\n",
        "        VALUES (?,?,?,?,?)''', climb_list)\n",
        "  conn.commit()\n",
        "  print(\"climb Data Insterted successfully\")\n",
        "except Exception as e:\n",
        "  print(str(e))\n",
        "  print(\"climb Insertion failed!\")\n",
        "finally:\n",
        "  conn.close()\n",
        "\n",
        "conn = sqlite3.connect(\"climb_weather.db\")\n",
        "\n",
        "cursor = conn.cursor()\n",
        "\n",
        "try:\n",
        "  cursor.executemany('''\n",
        "        INSERT INTO weather (Date, battery_v, temperature, humidity, wind_speed, wind_direct, solar)\n",
        "        VALUES (?,?,?,?,?,?,?)''', weather_list)\n",
        "  conn.commit()\n",
        "  print(\"weather Data Insterted successfully\")\n",
        "except Exception as e:\n",
        "  print(str(e))\n",
        "  print(\"weather Insertion failed!\")\n",
        "finally:\n",
        "  conn.close()"
      ],
      "execution_count": 0,
      "outputs": [
        {
          "output_type": "stream",
          "text": [
            "climb Data Insterted successfully\n",
            "weather Data Insterted successfully\n"
          ],
          "name": "stdout"
        }
      ]
    },
    {
      "cell_type": "code",
      "metadata": {
        "id": "zLNMwwwLeCeO",
        "colab_type": "code",
        "outputId": "873fe147-a032-4e99-f7af-fe4feaf51780",
        "colab": {
          "base_uri": "https://localhost:8080/",
          "height": 52
        }
      },
      "source": [
        "conn = sqlite3.connect(\"climb_weather.db\")\n",
        "cursor = conn.cursor()\n",
        "cursor.execute(\"SELECT count(*) as Total FROM climb;\")\n",
        "rows = cursor.fetchall()\n",
        "for row in rows:\n",
        "  print(row)\n",
        "conn.close()\n",
        "\n",
        "conn = sqlite3.connect(\"climb_weather.db\")\n",
        "cursor = conn.cursor()\n",
        "cursor.execute(\"SELECT count(*) as Total FROM weather;\")\n",
        "rows = cursor.fetchall()\n",
        "for row in rows:\n",
        "  print(row)\n",
        "conn.close()"
      ],
      "execution_count": 0,
      "outputs": [
        {
          "output_type": "stream",
          "text": [
            "(4077,)\n",
            "(464,)\n"
          ],
          "name": "stdout"
        }
      ]
    },
    {
      "cell_type": "code",
      "metadata": {
        "id": "F9mqilOpfVVt",
        "colab_type": "code",
        "outputId": "88b26385-607b-4814-d83e-7f98f36160d0",
        "colab": {
          "base_uri": "https://localhost:8080/",
          "height": 639
        }
      },
      "source": [
        "conn = sqlite3.connect(\"climb_weather.db\")\n",
        "df_climb_agg = pd.read_sql_query(\"select date, Route, sum(attempted) as attempted, sum(succeeded) as succeeded, sum(succeeded)/sum(attempted) as succeeded_rate from Climb group by date, Route order by date\", conn)\n",
        "df_climb_agg.head(20)"
      ],
      "execution_count": 0,
      "outputs": [
        {
          "output_type": "execute_result",
          "data": {
            "text/html": [
              "<div>\n",
              "<style scoped>\n",
              "    .dataframe tbody tr th:only-of-type {\n",
              "        vertical-align: middle;\n",
              "    }\n",
              "\n",
              "    .dataframe tbody tr th {\n",
              "        vertical-align: top;\n",
              "    }\n",
              "\n",
              "    .dataframe thead th {\n",
              "        text-align: right;\n",
              "    }\n",
              "</style>\n",
              "<table border=\"1\" class=\"dataframe\">\n",
              "  <thead>\n",
              "    <tr style=\"text-align: right;\">\n",
              "      <th></th>\n",
              "      <th>date</th>\n",
              "      <th>route</th>\n",
              "      <th>attempted</th>\n",
              "      <th>succeeded</th>\n",
              "      <th>succeeded_rate</th>\n",
              "    </tr>\n",
              "  </thead>\n",
              "  <tbody>\n",
              "    <tr>\n",
              "      <th>0</th>\n",
              "      <td>1/16/2014</td>\n",
              "      <td>Little Tahoma</td>\n",
              "      <td>2.0</td>\n",
              "      <td>0.0</td>\n",
              "      <td>0.000000</td>\n",
              "    </tr>\n",
              "    <tr>\n",
              "      <th>1</th>\n",
              "      <td>1/18/2014</td>\n",
              "      <td>Gibralter Ledges</td>\n",
              "      <td>8.0</td>\n",
              "      <td>4.0</td>\n",
              "      <td>0.500000</td>\n",
              "    </tr>\n",
              "    <tr>\n",
              "      <th>2</th>\n",
              "      <td>1/19/2014</td>\n",
              "      <td>Gibralter Ledges</td>\n",
              "      <td>2.0</td>\n",
              "      <td>0.0</td>\n",
              "      <td>0.000000</td>\n",
              "    </tr>\n",
              "    <tr>\n",
              "      <th>3</th>\n",
              "      <td>1/20/2014</td>\n",
              "      <td>Fuhrer's Finger</td>\n",
              "      <td>2.0</td>\n",
              "      <td>0.0</td>\n",
              "      <td>0.000000</td>\n",
              "    </tr>\n",
              "    <tr>\n",
              "      <th>4</th>\n",
              "      <td>1/23/2014</td>\n",
              "      <td>Little Tahoma</td>\n",
              "      <td>2.0</td>\n",
              "      <td>0.0</td>\n",
              "      <td>0.000000</td>\n",
              "    </tr>\n",
              "    <tr>\n",
              "      <th>5</th>\n",
              "      <td>1/23/2015</td>\n",
              "      <td>Disappointment Cleaver</td>\n",
              "      <td>2.0</td>\n",
              "      <td>0.0</td>\n",
              "      <td>0.000000</td>\n",
              "    </tr>\n",
              "    <tr>\n",
              "      <th>6</th>\n",
              "      <td>1/24/2014</td>\n",
              "      <td>Gibralter Ledges</td>\n",
              "      <td>9.0</td>\n",
              "      <td>6.0</td>\n",
              "      <td>0.666667</td>\n",
              "    </tr>\n",
              "    <tr>\n",
              "      <th>7</th>\n",
              "      <td>1/24/2014</td>\n",
              "      <td>Ingraham Direct</td>\n",
              "      <td>2.0</td>\n",
              "      <td>0.0</td>\n",
              "      <td>0.000000</td>\n",
              "    </tr>\n",
              "    <tr>\n",
              "      <th>8</th>\n",
              "      <td>1/24/2015</td>\n",
              "      <td>Gibralter Ledges</td>\n",
              "      <td>4.0</td>\n",
              "      <td>0.0</td>\n",
              "      <td>0.000000</td>\n",
              "    </tr>\n",
              "    <tr>\n",
              "      <th>9</th>\n",
              "      <td>1/24/2015</td>\n",
              "      <td>Ingraham Direct</td>\n",
              "      <td>4.0</td>\n",
              "      <td>0.0</td>\n",
              "      <td>0.000000</td>\n",
              "    </tr>\n",
              "    <tr>\n",
              "      <th>10</th>\n",
              "      <td>1/25/2014</td>\n",
              "      <td>Gibralter Ledges</td>\n",
              "      <td>4.0</td>\n",
              "      <td>0.0</td>\n",
              "      <td>0.000000</td>\n",
              "    </tr>\n",
              "    <tr>\n",
              "      <th>11</th>\n",
              "      <td>1/25/2014</td>\n",
              "      <td>Ingraham Direct</td>\n",
              "      <td>10.0</td>\n",
              "      <td>2.0</td>\n",
              "      <td>0.200000</td>\n",
              "    </tr>\n",
              "    <tr>\n",
              "      <th>12</th>\n",
              "      <td>1/25/2015</td>\n",
              "      <td>Gibralter Ledges</td>\n",
              "      <td>2.0</td>\n",
              "      <td>0.0</td>\n",
              "      <td>0.000000</td>\n",
              "    </tr>\n",
              "    <tr>\n",
              "      <th>13</th>\n",
              "      <td>1/26/2014</td>\n",
              "      <td>Gibralter Ledges</td>\n",
              "      <td>2.0</td>\n",
              "      <td>2.0</td>\n",
              "      <td>1.000000</td>\n",
              "    </tr>\n",
              "    <tr>\n",
              "      <th>14</th>\n",
              "      <td>1/28/2015</td>\n",
              "      <td>Gibralter Ledges</td>\n",
              "      <td>2.0</td>\n",
              "      <td>2.0</td>\n",
              "      <td>1.000000</td>\n",
              "    </tr>\n",
              "    <tr>\n",
              "      <th>15</th>\n",
              "      <td>1/29/2015</td>\n",
              "      <td>Fuhrer's Finger</td>\n",
              "      <td>3.0</td>\n",
              "      <td>0.0</td>\n",
              "      <td>0.000000</td>\n",
              "    </tr>\n",
              "    <tr>\n",
              "      <th>16</th>\n",
              "      <td>1/29/2015</td>\n",
              "      <td>Gibralter Ledges</td>\n",
              "      <td>14.0</td>\n",
              "      <td>6.0</td>\n",
              "      <td>0.428571</td>\n",
              "    </tr>\n",
              "    <tr>\n",
              "      <th>17</th>\n",
              "      <td>1/30/2015</td>\n",
              "      <td>Gibralter Ledges</td>\n",
              "      <td>3.0</td>\n",
              "      <td>0.0</td>\n",
              "      <td>0.000000</td>\n",
              "    </tr>\n",
              "    <tr>\n",
              "      <th>18</th>\n",
              "      <td>1/30/2015</td>\n",
              "      <td>Ingraham Direct</td>\n",
              "      <td>5.0</td>\n",
              "      <td>2.0</td>\n",
              "      <td>0.400000</td>\n",
              "    </tr>\n",
              "    <tr>\n",
              "      <th>19</th>\n",
              "      <td>1/31/2015</td>\n",
              "      <td>Gibralter Ledges</td>\n",
              "      <td>3.0</td>\n",
              "      <td>0.0</td>\n",
              "      <td>0.000000</td>\n",
              "    </tr>\n",
              "  </tbody>\n",
              "</table>\n",
              "</div>"
            ],
            "text/plain": [
              "         date                   route  attempted  succeeded  succeeded_rate\n",
              "0   1/16/2014           Little Tahoma        2.0        0.0        0.000000\n",
              "1   1/18/2014        Gibralter Ledges        8.0        4.0        0.500000\n",
              "2   1/19/2014        Gibralter Ledges        2.0        0.0        0.000000\n",
              "3   1/20/2014         Fuhrer's Finger        2.0        0.0        0.000000\n",
              "4   1/23/2014           Little Tahoma        2.0        0.0        0.000000\n",
              "5   1/23/2015  Disappointment Cleaver        2.0        0.0        0.000000\n",
              "6   1/24/2014        Gibralter Ledges        9.0        6.0        0.666667\n",
              "7   1/24/2014         Ingraham Direct        2.0        0.0        0.000000\n",
              "8   1/24/2015        Gibralter Ledges        4.0        0.0        0.000000\n",
              "9   1/24/2015         Ingraham Direct        4.0        0.0        0.000000\n",
              "10  1/25/2014        Gibralter Ledges        4.0        0.0        0.000000\n",
              "11  1/25/2014         Ingraham Direct       10.0        2.0        0.200000\n",
              "12  1/25/2015        Gibralter Ledges        2.0        0.0        0.000000\n",
              "13  1/26/2014        Gibralter Ledges        2.0        2.0        1.000000\n",
              "14  1/28/2015        Gibralter Ledges        2.0        2.0        1.000000\n",
              "15  1/29/2015         Fuhrer's Finger        3.0        0.0        0.000000\n",
              "16  1/29/2015        Gibralter Ledges       14.0        6.0        0.428571\n",
              "17  1/30/2015        Gibralter Ledges        3.0        0.0        0.000000\n",
              "18  1/30/2015         Ingraham Direct        5.0        2.0        0.400000\n",
              "19  1/31/2015        Gibralter Ledges        3.0        0.0        0.000000"
            ]
          },
          "metadata": {
            "tags": []
          },
          "execution_count": 14
        }
      ]
    },
    {
      "cell_type": "code",
      "metadata": {
        "id": "TMyNs587g4tN",
        "colab_type": "code",
        "outputId": "2162a5a3-3535-4880-8a92-6f827e869306",
        "colab": {
          "base_uri": "https://localhost:8080/",
          "height": 34
        }
      },
      "source": [
        "conn = sqlite3.connect(\"climb_weather.db\")\n",
        "try:\n",
        "  conn.execute('''\n",
        "      DELETE FROM climb\n",
        "      ''')\n",
        "  print(\"climb Table data deleted successfully\")\n",
        "except Exception as e:\n",
        "  print(str(e))\n",
        "  print('climb Table data deleation failed!!!')\n",
        "finally:\n",
        "  conn.close()"
      ],
      "execution_count": 0,
      "outputs": [
        {
          "output_type": "stream",
          "text": [
            "climb Table data deleted successfully\n"
          ],
          "name": "stdout"
        }
      ]
    },
    {
      "cell_type": "code",
      "metadata": {
        "id": "3b9OMCnXiHqY",
        "colab_type": "code",
        "colab": {}
      },
      "source": [
        "climb_list = df_climb_agg.values.tolist()"
      ],
      "execution_count": 0,
      "outputs": []
    },
    {
      "cell_type": "code",
      "metadata": {
        "id": "r7BoyjhOiohF",
        "colab_type": "code",
        "outputId": "6fc60154-05dd-41e6-e577-0c909c502c11",
        "colab": {
          "base_uri": "https://localhost:8080/",
          "height": 34
        }
      },
      "source": [
        "conn = sqlite3.connect(\"climb_weather.db\")\n",
        "\n",
        "cursor = conn.cursor()\n",
        "\n",
        "try:\n",
        "  cursor.executemany('''\n",
        "        INSERT INTO climb (date, route, attempted, succeeded, succeeded_rate)\n",
        "        VALUES (?,?,?,?,?)''', climb_list)\n",
        "  conn.commit()\n",
        "  print(\"climb Data Insterted successfully\")\n",
        "except Exception as e:\n",
        "  print(str(e))\n",
        "  print(\"climb Insertion failed!\")\n",
        "finally:\n",
        "  conn.close()"
      ],
      "execution_count": 0,
      "outputs": [
        {
          "output_type": "stream",
          "text": [
            "climb Data Insterted successfully\n"
          ],
          "name": "stdout"
        }
      ]
    },
    {
      "cell_type": "code",
      "metadata": {
        "id": "ds8wG94aiwOU",
        "colab_type": "code",
        "outputId": "aa10ade8-e237-484a-9d17-7efbede01e00",
        "colab": {
          "base_uri": "https://localhost:8080/",
          "height": 962
        }
      },
      "source": [
        "conn = sqlite3.connect(\"climb_weather.db\")\n",
        "df_climb_fin = pd.read_sql_query(\"select * from climb INNER JOIN weather ON climb.date = weather.Date\", conn)\n",
        "df_climb_fin.head(20)"
      ],
      "execution_count": 0,
      "outputs": [
        {
          "output_type": "execute_result",
          "data": {
            "text/html": [
              "<div>\n",
              "<style scoped>\n",
              "    .dataframe tbody tr th:only-of-type {\n",
              "        vertical-align: middle;\n",
              "    }\n",
              "\n",
              "    .dataframe tbody tr th {\n",
              "        vertical-align: top;\n",
              "    }\n",
              "\n",
              "    .dataframe thead th {\n",
              "        text-align: right;\n",
              "    }\n",
              "</style>\n",
              "<table border=\"1\" class=\"dataframe\">\n",
              "  <thead>\n",
              "    <tr style=\"text-align: right;\">\n",
              "      <th></th>\n",
              "      <th>date</th>\n",
              "      <th>route</th>\n",
              "      <th>attempted</th>\n",
              "      <th>succeeded</th>\n",
              "      <th>succeeded_rate</th>\n",
              "      <th>Date</th>\n",
              "      <th>battery_v</th>\n",
              "      <th>temperature</th>\n",
              "      <th>humidity</th>\n",
              "      <th>wind_speed</th>\n",
              "      <th>wind_direct</th>\n",
              "      <th>solar</th>\n",
              "    </tr>\n",
              "  </thead>\n",
              "  <tbody>\n",
              "    <tr>\n",
              "      <th>0</th>\n",
              "      <td>11/27/2015</td>\n",
              "      <td>Disappointment Cleaver</td>\n",
              "      <td>2.0</td>\n",
              "      <td>0.0</td>\n",
              "      <td>0.000000</td>\n",
              "      <td>11/27/2015</td>\n",
              "      <td>13.643750</td>\n",
              "      <td>26.321667</td>\n",
              "      <td>19.715000</td>\n",
              "      <td>27.839583</td>\n",
              "      <td>68.004167</td>\n",
              "      <td>88.496250</td>\n",
              "    </tr>\n",
              "    <tr>\n",
              "      <th>1</th>\n",
              "      <td>11/21/2015</td>\n",
              "      <td>Disappointment Cleaver</td>\n",
              "      <td>3.0</td>\n",
              "      <td>0.0</td>\n",
              "      <td>0.000000</td>\n",
              "      <td>11/21/2015</td>\n",
              "      <td>13.749583</td>\n",
              "      <td>31.300000</td>\n",
              "      <td>21.690708</td>\n",
              "      <td>2.245833</td>\n",
              "      <td>117.549667</td>\n",
              "      <td>93.660417</td>\n",
              "    </tr>\n",
              "    <tr>\n",
              "      <th>2</th>\n",
              "      <td>10/15/2015</td>\n",
              "      <td>Disappointment Cleaver</td>\n",
              "      <td>2.0</td>\n",
              "      <td>0.0</td>\n",
              "      <td>0.000000</td>\n",
              "      <td>10/15/2015</td>\n",
              "      <td>13.461250</td>\n",
              "      <td>46.447917</td>\n",
              "      <td>27.211250</td>\n",
              "      <td>17.163625</td>\n",
              "      <td>259.121375</td>\n",
              "      <td>138.387000</td>\n",
              "    </tr>\n",
              "    <tr>\n",
              "      <th>3</th>\n",
              "      <td>10/13/2015</td>\n",
              "      <td>Little Tahoma</td>\n",
              "      <td>8.0</td>\n",
              "      <td>0.0</td>\n",
              "      <td>0.000000</td>\n",
              "      <td>10/13/2015</td>\n",
              "      <td>13.532083</td>\n",
              "      <td>40.979583</td>\n",
              "      <td>28.335708</td>\n",
              "      <td>19.591167</td>\n",
              "      <td>279.779167</td>\n",
              "      <td>176.382667</td>\n",
              "    </tr>\n",
              "    <tr>\n",
              "      <th>4</th>\n",
              "      <td>10/9/2015</td>\n",
              "      <td>Disappointment Cleaver</td>\n",
              "      <td>2.0</td>\n",
              "      <td>0.0</td>\n",
              "      <td>0.000000</td>\n",
              "      <td>10/9/2015</td>\n",
              "      <td>13.216250</td>\n",
              "      <td>38.260417</td>\n",
              "      <td>74.329167</td>\n",
              "      <td>65.138333</td>\n",
              "      <td>264.687500</td>\n",
              "      <td>27.791292</td>\n",
              "    </tr>\n",
              "    <tr>\n",
              "      <th>5</th>\n",
              "      <td>10/3/2015</td>\n",
              "      <td>Disappointment Cleaver</td>\n",
              "      <td>10.0</td>\n",
              "      <td>0.0</td>\n",
              "      <td>0.000000</td>\n",
              "      <td>10/3/2015</td>\n",
              "      <td>13.577500</td>\n",
              "      <td>31.822917</td>\n",
              "      <td>62.337083</td>\n",
              "      <td>13.125042</td>\n",
              "      <td>153.931667</td>\n",
              "      <td>196.375208</td>\n",
              "    </tr>\n",
              "    <tr>\n",
              "      <th>6</th>\n",
              "      <td>10/3/2015</td>\n",
              "      <td>Disappointment Cleaver</td>\n",
              "      <td>2.0</td>\n",
              "      <td>0.0</td>\n",
              "      <td>0.000000</td>\n",
              "      <td>10/3/2015</td>\n",
              "      <td>13.577500</td>\n",
              "      <td>31.822917</td>\n",
              "      <td>62.337083</td>\n",
              "      <td>13.125042</td>\n",
              "      <td>153.931667</td>\n",
              "      <td>196.375208</td>\n",
              "    </tr>\n",
              "    <tr>\n",
              "      <th>7</th>\n",
              "      <td>10/2/2015</td>\n",
              "      <td>Kautz Glacier</td>\n",
              "      <td>2.0</td>\n",
              "      <td>0.0</td>\n",
              "      <td>0.000000</td>\n",
              "      <td>10/2/2015</td>\n",
              "      <td>13.505000</td>\n",
              "      <td>36.064167</td>\n",
              "      <td>47.017375</td>\n",
              "      <td>6.445917</td>\n",
              "      <td>247.318333</td>\n",
              "      <td>176.265542</td>\n",
              "    </tr>\n",
              "    <tr>\n",
              "      <th>8</th>\n",
              "      <td>10/2/2015</td>\n",
              "      <td>Disappointment Cleaver</td>\n",
              "      <td>2.0</td>\n",
              "      <td>0.0</td>\n",
              "      <td>0.000000</td>\n",
              "      <td>10/2/2015</td>\n",
              "      <td>13.505000</td>\n",
              "      <td>36.064167</td>\n",
              "      <td>47.017375</td>\n",
              "      <td>6.445917</td>\n",
              "      <td>247.318333</td>\n",
              "      <td>176.265542</td>\n",
              "    </tr>\n",
              "    <tr>\n",
              "      <th>9</th>\n",
              "      <td>9/30/2015</td>\n",
              "      <td>Disappointment Cleaver</td>\n",
              "      <td>2.0</td>\n",
              "      <td>0.0</td>\n",
              "      <td>0.000000</td>\n",
              "      <td>9/30/2015</td>\n",
              "      <td>13.483333</td>\n",
              "      <td>38.729583</td>\n",
              "      <td>57.369583</td>\n",
              "      <td>11.300750</td>\n",
              "      <td>216.934167</td>\n",
              "      <td>202.812750</td>\n",
              "    </tr>\n",
              "    <tr>\n",
              "      <th>10</th>\n",
              "      <td>9/28/2015</td>\n",
              "      <td>Disappointment Cleaver</td>\n",
              "      <td>12.0</td>\n",
              "      <td>4.0</td>\n",
              "      <td>0.333333</td>\n",
              "      <td>9/28/2015</td>\n",
              "      <td>13.503333</td>\n",
              "      <td>38.335417</td>\n",
              "      <td>27.025417</td>\n",
              "      <td>17.115208</td>\n",
              "      <td>270.866667</td>\n",
              "      <td>201.852583</td>\n",
              "    </tr>\n",
              "    <tr>\n",
              "      <th>11</th>\n",
              "      <td>9/27/2015</td>\n",
              "      <td>Disappointment Cleaver</td>\n",
              "      <td>12.0</td>\n",
              "      <td>6.0</td>\n",
              "      <td>0.500000</td>\n",
              "      <td>9/27/2015</td>\n",
              "      <td>13.504583</td>\n",
              "      <td>35.105000</td>\n",
              "      <td>23.768333</td>\n",
              "      <td>4.557083</td>\n",
              "      <td>188.213583</td>\n",
              "      <td>201.891208</td>\n",
              "    </tr>\n",
              "    <tr>\n",
              "      <th>12</th>\n",
              "      <td>9/26/2015</td>\n",
              "      <td>Disappointment Cleaver</td>\n",
              "      <td>2.0</td>\n",
              "      <td>0.0</td>\n",
              "      <td>0.000000</td>\n",
              "      <td>9/26/2015</td>\n",
              "      <td>13.516250</td>\n",
              "      <td>27.322083</td>\n",
              "      <td>59.469917</td>\n",
              "      <td>15.730750</td>\n",
              "      <td>216.342500</td>\n",
              "      <td>183.871708</td>\n",
              "    </tr>\n",
              "    <tr>\n",
              "      <th>13</th>\n",
              "      <td>9/26/2015</td>\n",
              "      <td>Disappointment Cleaver</td>\n",
              "      <td>12.0</td>\n",
              "      <td>3.0</td>\n",
              "      <td>0.250000</td>\n",
              "      <td>9/26/2015</td>\n",
              "      <td>13.516250</td>\n",
              "      <td>27.322083</td>\n",
              "      <td>59.469917</td>\n",
              "      <td>15.730750</td>\n",
              "      <td>216.342500</td>\n",
              "      <td>183.871708</td>\n",
              "    </tr>\n",
              "    <tr>\n",
              "      <th>14</th>\n",
              "      <td>9/26/2015</td>\n",
              "      <td>Disappointment Cleaver</td>\n",
              "      <td>3.0</td>\n",
              "      <td>0.0</td>\n",
              "      <td>0.000000</td>\n",
              "      <td>9/26/2015</td>\n",
              "      <td>13.516250</td>\n",
              "      <td>27.322083</td>\n",
              "      <td>59.469917</td>\n",
              "      <td>15.730750</td>\n",
              "      <td>216.342500</td>\n",
              "      <td>183.871708</td>\n",
              "    </tr>\n",
              "    <tr>\n",
              "      <th>15</th>\n",
              "      <td>9/25/2015</td>\n",
              "      <td>Disappointment Cleaver</td>\n",
              "      <td>12.0</td>\n",
              "      <td>9.0</td>\n",
              "      <td>0.750000</td>\n",
              "      <td>9/25/2015</td>\n",
              "      <td>13.037083</td>\n",
              "      <td>32.390417</td>\n",
              "      <td>95.305833</td>\n",
              "      <td>61.387500</td>\n",
              "      <td>261.033333</td>\n",
              "      <td>12.382583</td>\n",
              "    </tr>\n",
              "    <tr>\n",
              "      <th>16</th>\n",
              "      <td>9/25/2015</td>\n",
              "      <td>Disappointment Cleaver</td>\n",
              "      <td>11.0</td>\n",
              "      <td>6.0</td>\n",
              "      <td>0.545455</td>\n",
              "      <td>9/25/2015</td>\n",
              "      <td>13.037083</td>\n",
              "      <td>32.390417</td>\n",
              "      <td>95.305833</td>\n",
              "      <td>61.387500</td>\n",
              "      <td>261.033333</td>\n",
              "      <td>12.382583</td>\n",
              "    </tr>\n",
              "    <tr>\n",
              "      <th>17</th>\n",
              "      <td>9/24/2015</td>\n",
              "      <td>Disappointment Cleaver</td>\n",
              "      <td>10.0</td>\n",
              "      <td>0.0</td>\n",
              "      <td>0.000000</td>\n",
              "      <td>9/24/2015</td>\n",
              "      <td>13.553750</td>\n",
              "      <td>36.099583</td>\n",
              "      <td>60.978750</td>\n",
              "      <td>51.610833</td>\n",
              "      <td>265.416667</td>\n",
              "      <td>180.315875</td>\n",
              "    </tr>\n",
              "    <tr>\n",
              "      <th>18</th>\n",
              "      <td>9/24/2015</td>\n",
              "      <td>Disappointment Cleaver</td>\n",
              "      <td>11.0</td>\n",
              "      <td>1.0</td>\n",
              "      <td>0.090909</td>\n",
              "      <td>9/24/2015</td>\n",
              "      <td>13.553750</td>\n",
              "      <td>36.099583</td>\n",
              "      <td>60.978750</td>\n",
              "      <td>51.610833</td>\n",
              "      <td>265.416667</td>\n",
              "      <td>180.315875</td>\n",
              "    </tr>\n",
              "    <tr>\n",
              "      <th>19</th>\n",
              "      <td>9/23/2015</td>\n",
              "      <td>Disappointment Cleaver</td>\n",
              "      <td>12.0</td>\n",
              "      <td>0.0</td>\n",
              "      <td>0.000000</td>\n",
              "      <td>9/23/2015</td>\n",
              "      <td>13.542500</td>\n",
              "      <td>30.875833</td>\n",
              "      <td>70.450000</td>\n",
              "      <td>35.448750</td>\n",
              "      <td>263.383333</td>\n",
              "      <td>138.257458</td>\n",
              "    </tr>\n",
              "  </tbody>\n",
              "</table>\n",
              "</div>"
            ],
            "text/plain": [
              "          date                   route  attempted  succeeded  succeeded_rate  \\\n",
              "0   11/27/2015  Disappointment Cleaver        2.0        0.0        0.000000   \n",
              "1   11/21/2015  Disappointment Cleaver        3.0        0.0        0.000000   \n",
              "2   10/15/2015  Disappointment Cleaver        2.0        0.0        0.000000   \n",
              "3   10/13/2015           Little Tahoma        8.0        0.0        0.000000   \n",
              "4    10/9/2015  Disappointment Cleaver        2.0        0.0        0.000000   \n",
              "5    10/3/2015  Disappointment Cleaver       10.0        0.0        0.000000   \n",
              "6    10/3/2015  Disappointment Cleaver        2.0        0.0        0.000000   \n",
              "7    10/2/2015           Kautz Glacier        2.0        0.0        0.000000   \n",
              "8    10/2/2015  Disappointment Cleaver        2.0        0.0        0.000000   \n",
              "9    9/30/2015  Disappointment Cleaver        2.0        0.0        0.000000   \n",
              "10   9/28/2015  Disappointment Cleaver       12.0        4.0        0.333333   \n",
              "11   9/27/2015  Disappointment Cleaver       12.0        6.0        0.500000   \n",
              "12   9/26/2015  Disappointment Cleaver        2.0        0.0        0.000000   \n",
              "13   9/26/2015  Disappointment Cleaver       12.0        3.0        0.250000   \n",
              "14   9/26/2015  Disappointment Cleaver        3.0        0.0        0.000000   \n",
              "15   9/25/2015  Disappointment Cleaver       12.0        9.0        0.750000   \n",
              "16   9/25/2015  Disappointment Cleaver       11.0        6.0        0.545455   \n",
              "17   9/24/2015  Disappointment Cleaver       10.0        0.0        0.000000   \n",
              "18   9/24/2015  Disappointment Cleaver       11.0        1.0        0.090909   \n",
              "19   9/23/2015  Disappointment Cleaver       12.0        0.0        0.000000   \n",
              "\n",
              "          Date  battery_v  temperature   humidity  wind_speed  wind_direct  \\\n",
              "0   11/27/2015  13.643750    26.321667  19.715000   27.839583    68.004167   \n",
              "1   11/21/2015  13.749583    31.300000  21.690708    2.245833   117.549667   \n",
              "2   10/15/2015  13.461250    46.447917  27.211250   17.163625   259.121375   \n",
              "3   10/13/2015  13.532083    40.979583  28.335708   19.591167   279.779167   \n",
              "4    10/9/2015  13.216250    38.260417  74.329167   65.138333   264.687500   \n",
              "5    10/3/2015  13.577500    31.822917  62.337083   13.125042   153.931667   \n",
              "6    10/3/2015  13.577500    31.822917  62.337083   13.125042   153.931667   \n",
              "7    10/2/2015  13.505000    36.064167  47.017375    6.445917   247.318333   \n",
              "8    10/2/2015  13.505000    36.064167  47.017375    6.445917   247.318333   \n",
              "9    9/30/2015  13.483333    38.729583  57.369583   11.300750   216.934167   \n",
              "10   9/28/2015  13.503333    38.335417  27.025417   17.115208   270.866667   \n",
              "11   9/27/2015  13.504583    35.105000  23.768333    4.557083   188.213583   \n",
              "12   9/26/2015  13.516250    27.322083  59.469917   15.730750   216.342500   \n",
              "13   9/26/2015  13.516250    27.322083  59.469917   15.730750   216.342500   \n",
              "14   9/26/2015  13.516250    27.322083  59.469917   15.730750   216.342500   \n",
              "15   9/25/2015  13.037083    32.390417  95.305833   61.387500   261.033333   \n",
              "16   9/25/2015  13.037083    32.390417  95.305833   61.387500   261.033333   \n",
              "17   9/24/2015  13.553750    36.099583  60.978750   51.610833   265.416667   \n",
              "18   9/24/2015  13.553750    36.099583  60.978750   51.610833   265.416667   \n",
              "19   9/23/2015  13.542500    30.875833  70.450000   35.448750   263.383333   \n",
              "\n",
              "         solar  \n",
              "0    88.496250  \n",
              "1    93.660417  \n",
              "2   138.387000  \n",
              "3   176.382667  \n",
              "4    27.791292  \n",
              "5   196.375208  \n",
              "6   196.375208  \n",
              "7   176.265542  \n",
              "8   176.265542  \n",
              "9   202.812750  \n",
              "10  201.852583  \n",
              "11  201.891208  \n",
              "12  183.871708  \n",
              "13  183.871708  \n",
              "14  183.871708  \n",
              "15   12.382583  \n",
              "16   12.382583  \n",
              "17  180.315875  \n",
              "18  180.315875  \n",
              "19  138.257458  "
            ]
          },
          "metadata": {
            "tags": []
          },
          "execution_count": 18
        }
      ]
    },
    {
      "cell_type": "code",
      "metadata": {
        "id": "YzWRtJfzlwcO",
        "colab_type": "code",
        "outputId": "cef01567-afce-494e-f42c-116b812c1d30",
        "colab": {
          "base_uri": "https://localhost:8080/",
          "height": 52
        }
      },
      "source": [
        "conn = sqlite3.connect(\"climb_weather.db\")\n",
        "try:\n",
        "  conn.execute('''\n",
        "      CREATE TABLE fin AS\n",
        "      select * from climb INNER JOIN weather ON climb.date = weather.Date;''')\n",
        "  print(\"fin Table created successfully\")\n",
        "except Exception as e:\n",
        "  print(str(e))\n",
        "  print('fin Table creation failed!!!')\n",
        "finally:\n",
        "  conn.close()"
      ],
      "execution_count": 0,
      "outputs": [
        {
          "output_type": "stream",
          "text": [
            "table fin already exists\n",
            "fin Table creation failed!!!\n"
          ],
          "name": "stdout"
        }
      ]
    },
    {
      "cell_type": "code",
      "metadata": {
        "id": "jVerTqALpEvv",
        "colab_type": "code",
        "outputId": "9469b2bf-f919-4b3a-ac63-f35d5693712f",
        "colab": {
          "base_uri": "https://localhost:8080/",
          "height": 34
        }
      },
      "source": [
        "conn = sqlite3.connect(\"climb_weather.db\")\n",
        "try:\n",
        "  conn.execute('''\n",
        "      UPDATE fin SET wind_direct = 'N' where wind_direct < 45 or wind_direct > 315;''')\n",
        "  print(\"fin Table updated successfully\")\n",
        "except Exception as e:\n",
        "  print(str(e))\n",
        "  print('fin Table updated failed!!!')\n",
        "finally:\n",
        "  conn.commit()\n",
        "  conn.close()"
      ],
      "execution_count": 0,
      "outputs": [
        {
          "output_type": "stream",
          "text": [
            "fin Table updated successfully\n"
          ],
          "name": "stdout"
        }
      ]
    },
    {
      "cell_type": "code",
      "metadata": {
        "id": "SeiHD5QBuLpR",
        "colab_type": "code",
        "outputId": "6d5c0715-6662-499f-8289-818c0176d664",
        "colab": {
          "base_uri": "https://localhost:8080/",
          "height": 34
        }
      },
      "source": [
        "conn = sqlite3.connect(\"climb_weather.db\")\n",
        "try:\n",
        "  conn.execute('''\n",
        "      UPDATE fin SET wind_direct = 'E' where wind_direct >= 45 and wind_direct <135;''')\n",
        "  print(\"fin Table updated successfully\")\n",
        "except Exception as e:\n",
        "  print(str(e))\n",
        "  print('fin Table updated failed!!!')\n",
        "finally:\n",
        "  conn.commit()\n",
        "  conn.close()"
      ],
      "execution_count": 0,
      "outputs": [
        {
          "output_type": "stream",
          "text": [
            "fin Table updated successfully\n"
          ],
          "name": "stdout"
        }
      ]
    },
    {
      "cell_type": "code",
      "metadata": {
        "id": "_vvLXwsyu2jT",
        "colab_type": "code",
        "outputId": "9d69ba00-a55e-408f-d583-11089bb54e13",
        "colab": {
          "base_uri": "https://localhost:8080/",
          "height": 34
        }
      },
      "source": [
        "conn = sqlite3.connect(\"climb_weather.db\")\n",
        "try:\n",
        "  conn.execute('''\n",
        "      UPDATE fin SET wind_direct = 'S' where wind_direct >= 135 and wind_direct < 225;''')\n",
        "  print(\"fin Table updated successfully\")\n",
        "except Exception as e:\n",
        "  print(str(e))\n",
        "  print('fin Table updated failed!!!')\n",
        "finally:\n",
        "  conn.commit()\n",
        "  conn.close()"
      ],
      "execution_count": 0,
      "outputs": [
        {
          "output_type": "stream",
          "text": [
            "fin Table updated successfully\n"
          ],
          "name": "stdout"
        }
      ]
    },
    {
      "cell_type": "code",
      "metadata": {
        "id": "RSLrlUCTvqO5",
        "colab_type": "code",
        "outputId": "72be569c-e106-469d-cb54-82e20acc1c7a",
        "colab": {
          "base_uri": "https://localhost:8080/",
          "height": 34
        }
      },
      "source": [
        "conn = sqlite3.connect(\"climb_weather.db\")\n",
        "try:\n",
        "  conn.execute('''\n",
        "      UPDATE fin SET wind_direct = 'W' where wind_direct >= 225 and wind_direct < 315;''')\n",
        "  print(\"fin Table updated successfully\")\n",
        "except Exception as e:\n",
        "  print(str(e))\n",
        "  print('fin Table updated failed!!!')\n",
        "finally:\n",
        "  conn.commit()\n",
        "  conn.close()"
      ],
      "execution_count": 0,
      "outputs": [
        {
          "output_type": "stream",
          "text": [
            "fin Table updated successfully\n"
          ],
          "name": "stdout"
        }
      ]
    },
    {
      "cell_type": "code",
      "metadata": {
        "id": "UZcLPf5fqW3a",
        "colab_type": "code",
        "outputId": "69419b1e-647c-49a7-af21-186e3e5978e6",
        "colab": {
          "base_uri": "https://localhost:8080/",
          "height": 282
        }
      },
      "source": [
        "conn = sqlite3.connect(\"climb_weather.db\")\n",
        "df_climb_fin = pd.read_sql_query(\"select date, route, succeeded_rate, battery_v, temperature, humidity, wind_speed, wind_direct, solar from fin\", conn)\n",
        "df_climb_fin.head(5)"
      ],
      "execution_count": 0,
      "outputs": [
        {
          "output_type": "execute_result",
          "data": {
            "text/html": [
              "<div>\n",
              "<style scoped>\n",
              "    .dataframe tbody tr th:only-of-type {\n",
              "        vertical-align: middle;\n",
              "    }\n",
              "\n",
              "    .dataframe tbody tr th {\n",
              "        vertical-align: top;\n",
              "    }\n",
              "\n",
              "    .dataframe thead th {\n",
              "        text-align: right;\n",
              "    }\n",
              "</style>\n",
              "<table border=\"1\" class=\"dataframe\">\n",
              "  <thead>\n",
              "    <tr style=\"text-align: right;\">\n",
              "      <th></th>\n",
              "      <th>date</th>\n",
              "      <th>route</th>\n",
              "      <th>succeeded_rate</th>\n",
              "      <th>battery_v</th>\n",
              "      <th>temperature</th>\n",
              "      <th>humidity</th>\n",
              "      <th>wind_speed</th>\n",
              "      <th>wind_direct</th>\n",
              "      <th>solar</th>\n",
              "    </tr>\n",
              "  </thead>\n",
              "  <tbody>\n",
              "    <tr>\n",
              "      <th>0</th>\n",
              "      <td>11/27/2015</td>\n",
              "      <td>Disappointment Cleaver</td>\n",
              "      <td>0.0</td>\n",
              "      <td>13.643750</td>\n",
              "      <td>26.321667</td>\n",
              "      <td>19.715000</td>\n",
              "      <td>27.839583</td>\n",
              "      <td>N</td>\n",
              "      <td>88.496250</td>\n",
              "    </tr>\n",
              "    <tr>\n",
              "      <th>1</th>\n",
              "      <td>11/21/2015</td>\n",
              "      <td>Disappointment Cleaver</td>\n",
              "      <td>0.0</td>\n",
              "      <td>13.749583</td>\n",
              "      <td>31.300000</td>\n",
              "      <td>21.690708</td>\n",
              "      <td>2.245833</td>\n",
              "      <td>N</td>\n",
              "      <td>93.660417</td>\n",
              "    </tr>\n",
              "    <tr>\n",
              "      <th>2</th>\n",
              "      <td>10/15/2015</td>\n",
              "      <td>Disappointment Cleaver</td>\n",
              "      <td>0.0</td>\n",
              "      <td>13.461250</td>\n",
              "      <td>46.447917</td>\n",
              "      <td>27.211250</td>\n",
              "      <td>17.163625</td>\n",
              "      <td>N</td>\n",
              "      <td>138.387000</td>\n",
              "    </tr>\n",
              "    <tr>\n",
              "      <th>3</th>\n",
              "      <td>10/13/2015</td>\n",
              "      <td>Little Tahoma</td>\n",
              "      <td>0.0</td>\n",
              "      <td>13.532083</td>\n",
              "      <td>40.979583</td>\n",
              "      <td>28.335708</td>\n",
              "      <td>19.591167</td>\n",
              "      <td>N</td>\n",
              "      <td>176.382667</td>\n",
              "    </tr>\n",
              "    <tr>\n",
              "      <th>4</th>\n",
              "      <td>10/9/2015</td>\n",
              "      <td>Disappointment Cleaver</td>\n",
              "      <td>0.0</td>\n",
              "      <td>13.216250</td>\n",
              "      <td>38.260417</td>\n",
              "      <td>74.329167</td>\n",
              "      <td>65.138333</td>\n",
              "      <td>N</td>\n",
              "      <td>27.791292</td>\n",
              "    </tr>\n",
              "  </tbody>\n",
              "</table>\n",
              "</div>"
            ],
            "text/plain": [
              "         date                   route  succeeded_rate  battery_v  temperature  \\\n",
              "0  11/27/2015  Disappointment Cleaver             0.0  13.643750    26.321667   \n",
              "1  11/21/2015  Disappointment Cleaver             0.0  13.749583    31.300000   \n",
              "2  10/15/2015  Disappointment Cleaver             0.0  13.461250    46.447917   \n",
              "3  10/13/2015           Little Tahoma             0.0  13.532083    40.979583   \n",
              "4   10/9/2015  Disappointment Cleaver             0.0  13.216250    38.260417   \n",
              "\n",
              "    humidity  wind_speed wind_direct       solar  \n",
              "0  19.715000   27.839583           N   88.496250  \n",
              "1  21.690708    2.245833           N   93.660417  \n",
              "2  27.211250   17.163625           N  138.387000  \n",
              "3  28.335708   19.591167           N  176.382667  \n",
              "4  74.329167   65.138333           N   27.791292  "
            ]
          },
          "metadata": {
            "tags": []
          },
          "execution_count": 24
        }
      ]
    },
    {
      "cell_type": "code",
      "metadata": {
        "id": "HRYVfGnBpW-x",
        "colab_type": "code",
        "outputId": "e957940a-8482-41be-af19-d18c6e58cd8f",
        "colab": {
          "base_uri": "https://localhost:8080/",
          "height": 67
        }
      },
      "source": [
        "conn = sqlite3.connect(\"climb_weather.db\")\n",
        "df = pd.read_sql_query(\"select * from fin where succeeded_rate > 1;\", conn)\n",
        "df.head()"
      ],
      "execution_count": 0,
      "outputs": [
        {
          "output_type": "execute_result",
          "data": {
            "text/html": [
              "<div>\n",
              "<style scoped>\n",
              "    .dataframe tbody tr th:only-of-type {\n",
              "        vertical-align: middle;\n",
              "    }\n",
              "\n",
              "    .dataframe tbody tr th {\n",
              "        vertical-align: top;\n",
              "    }\n",
              "\n",
              "    .dataframe thead th {\n",
              "        text-align: right;\n",
              "    }\n",
              "</style>\n",
              "<table border=\"1\" class=\"dataframe\">\n",
              "  <thead>\n",
              "    <tr style=\"text-align: right;\">\n",
              "      <th></th>\n",
              "      <th>date</th>\n",
              "      <th>route</th>\n",
              "      <th>attempted</th>\n",
              "      <th>succeeded</th>\n",
              "      <th>succeeded_rate</th>\n",
              "      <th>Date:1</th>\n",
              "      <th>battery_v</th>\n",
              "      <th>temperature</th>\n",
              "      <th>humidity</th>\n",
              "      <th>wind_speed</th>\n",
              "      <th>wind_direct</th>\n",
              "      <th>solar</th>\n",
              "    </tr>\n",
              "  </thead>\n",
              "  <tbody>\n",
              "  </tbody>\n",
              "</table>\n",
              "</div>"
            ],
            "text/plain": [
              "Empty DataFrame\n",
              "Columns: [date, route, attempted, succeeded, succeeded_rate, Date:1, battery_v, temperature, humidity, wind_speed, wind_direct, solar]\n",
              "Index: []"
            ]
          },
          "metadata": {
            "tags": []
          },
          "execution_count": 25
        }
      ]
    },
    {
      "cell_type": "code",
      "metadata": {
        "id": "0hRDlX3-tGks",
        "colab_type": "code",
        "outputId": "99478430-3dda-4c0f-e433-f8ed8f36164e",
        "colab": {
          "base_uri": "https://localhost:8080/",
          "height": 34
        }
      },
      "source": [
        "conn = sqlite3.connect(\"climb_weather.db\")\n",
        "try:\n",
        "  conn.execute('''\n",
        "      DELETE FROM fin where succeeded_rate > 1 or route like 'glacier%';''')\n",
        "  print(\"fin Table deleted successfully\")\n",
        "except Exception as e:\n",
        "  print(str(e))\n",
        "  print('fin Table delete failed!!!')\n",
        "finally:\n",
        "  conn.commit()\n",
        "  conn.close()"
      ],
      "execution_count": 0,
      "outputs": [
        {
          "output_type": "stream",
          "text": [
            "fin Table deleted successfully\n"
          ],
          "name": "stdout"
        }
      ]
    },
    {
      "cell_type": "code",
      "metadata": {
        "id": "RahSd7YktVY4",
        "colab_type": "code",
        "outputId": "a31cde41-29ac-4d4c-db4c-fe9b2cbf9a15",
        "colab": {
          "base_uri": "https://localhost:8080/",
          "height": 639
        }
      },
      "source": [
        "conn = sqlite3.connect(\"climb_weather.db\")\n",
        "df = pd.read_sql_query(\"select route, sum(attempted), sum(succeeded) from fin group by route order by sum(attempted) desc;\", conn)\n",
        "df"
      ],
      "execution_count": 0,
      "outputs": [
        {
          "output_type": "execute_result",
          "data": {
            "text/html": [
              "<div>\n",
              "<style scoped>\n",
              "    .dataframe tbody tr th:only-of-type {\n",
              "        vertical-align: middle;\n",
              "    }\n",
              "\n",
              "    .dataframe tbody tr th {\n",
              "        vertical-align: top;\n",
              "    }\n",
              "\n",
              "    .dataframe thead th {\n",
              "        text-align: right;\n",
              "    }\n",
              "</style>\n",
              "<table border=\"1\" class=\"dataframe\">\n",
              "  <thead>\n",
              "    <tr style=\"text-align: right;\">\n",
              "      <th></th>\n",
              "      <th>route</th>\n",
              "      <th>sum(attempted)</th>\n",
              "      <th>sum(succeeded)</th>\n",
              "    </tr>\n",
              "  </thead>\n",
              "  <tbody>\n",
              "    <tr>\n",
              "      <th>0</th>\n",
              "      <td>Disappointment Cleaver</td>\n",
              "      <td>14928.0</td>\n",
              "      <td>7288.0</td>\n",
              "    </tr>\n",
              "    <tr>\n",
              "      <th>1</th>\n",
              "      <td>Emmons-Winthrop</td>\n",
              "      <td>2907.0</td>\n",
              "      <td>1557.0</td>\n",
              "    </tr>\n",
              "    <tr>\n",
              "      <th>2</th>\n",
              "      <td>Kautz Glacier</td>\n",
              "      <td>1046.0</td>\n",
              "      <td>534.0</td>\n",
              "    </tr>\n",
              "    <tr>\n",
              "      <th>3</th>\n",
              "      <td>Little Tahoma</td>\n",
              "      <td>294.0</td>\n",
              "      <td>112.0</td>\n",
              "    </tr>\n",
              "    <tr>\n",
              "      <th>4</th>\n",
              "      <td>Ingraham Direct</td>\n",
              "      <td>198.0</td>\n",
              "      <td>14.0</td>\n",
              "    </tr>\n",
              "    <tr>\n",
              "      <th>5</th>\n",
              "      <td>Fuhrers Finger</td>\n",
              "      <td>180.0</td>\n",
              "      <td>26.0</td>\n",
              "    </tr>\n",
              "    <tr>\n",
              "      <th>6</th>\n",
              "      <td>Gibralter Ledges</td>\n",
              "      <td>160.0</td>\n",
              "      <td>22.0</td>\n",
              "    </tr>\n",
              "    <tr>\n",
              "      <th>7</th>\n",
              "      <td>Liberty RIngraham Directge</td>\n",
              "      <td>146.0</td>\n",
              "      <td>64.0</td>\n",
              "    </tr>\n",
              "    <tr>\n",
              "      <th>8</th>\n",
              "      <td>Ptarmigan RIngraham Directge</td>\n",
              "      <td>38.0</td>\n",
              "      <td>18.0</td>\n",
              "    </tr>\n",
              "    <tr>\n",
              "      <th>9</th>\n",
              "      <td>Kautz Cleaver</td>\n",
              "      <td>34.0</td>\n",
              "      <td>12.0</td>\n",
              "    </tr>\n",
              "    <tr>\n",
              "      <th>10</th>\n",
              "      <td>Nisqually Glacier</td>\n",
              "      <td>28.0</td>\n",
              "      <td>0.0</td>\n",
              "    </tr>\n",
              "    <tr>\n",
              "      <th>11</th>\n",
              "      <td>Tahoma Glacier</td>\n",
              "      <td>22.0</td>\n",
              "      <td>8.0</td>\n",
              "    </tr>\n",
              "    <tr>\n",
              "      <th>12</th>\n",
              "      <td>Success Cleaver</td>\n",
              "      <td>14.0</td>\n",
              "      <td>4.0</td>\n",
              "    </tr>\n",
              "    <tr>\n",
              "      <th>13</th>\n",
              "      <td>Mowich Face</td>\n",
              "      <td>12.0</td>\n",
              "      <td>4.0</td>\n",
              "    </tr>\n",
              "    <tr>\n",
              "      <th>14</th>\n",
              "      <td>Wilson Headwall</td>\n",
              "      <td>10.0</td>\n",
              "      <td>0.0</td>\n",
              "    </tr>\n",
              "    <tr>\n",
              "      <th>15</th>\n",
              "      <td>Curtis RIngraham Directge</td>\n",
              "      <td>8.0</td>\n",
              "      <td>4.0</td>\n",
              "    </tr>\n",
              "    <tr>\n",
              "      <th>16</th>\n",
              "      <td>Gibralter Chute</td>\n",
              "      <td>6.0</td>\n",
              "      <td>0.0</td>\n",
              "    </tr>\n",
              "    <tr>\n",
              "      <th>17</th>\n",
              "      <td>Tahoma Cleaver</td>\n",
              "      <td>6.0</td>\n",
              "      <td>6.0</td>\n",
              "    </tr>\n",
              "    <tr>\n",
              "      <th>18</th>\n",
              "      <td>Unknown</td>\n",
              "      <td>6.0</td>\n",
              "      <td>0.0</td>\n",
              "    </tr>\n",
              "    <tr>\n",
              "      <th>19</th>\n",
              "      <td>Sunset RIngraham Directge</td>\n",
              "      <td>4.0</td>\n",
              "      <td>0.0</td>\n",
              "    </tr>\n",
              "  </tbody>\n",
              "</table>\n",
              "</div>"
            ],
            "text/plain": [
              "                           route  sum(attempted)  sum(succeeded)\n",
              "0         Disappointment Cleaver         14928.0          7288.0\n",
              "1                Emmons-Winthrop          2907.0          1557.0\n",
              "2                  Kautz Glacier          1046.0           534.0\n",
              "3                  Little Tahoma           294.0           112.0\n",
              "4                Ingraham Direct           198.0            14.0\n",
              "5                 Fuhrers Finger           180.0            26.0\n",
              "6               Gibralter Ledges           160.0            22.0\n",
              "7     Liberty RIngraham Directge           146.0            64.0\n",
              "8   Ptarmigan RIngraham Directge            38.0            18.0\n",
              "9                  Kautz Cleaver            34.0            12.0\n",
              "10             Nisqually Glacier            28.0             0.0\n",
              "11                Tahoma Glacier            22.0             8.0\n",
              "12               Success Cleaver            14.0             4.0\n",
              "13                   Mowich Face            12.0             4.0\n",
              "14               Wilson Headwall            10.0             0.0\n",
              "15     Curtis RIngraham Directge             8.0             4.0\n",
              "16               Gibralter Chute             6.0             0.0\n",
              "17                Tahoma Cleaver             6.0             6.0\n",
              "18                       Unknown             6.0             0.0\n",
              "19     Sunset RIngraham Directge             4.0             0.0"
            ]
          },
          "metadata": {
            "tags": []
          },
          "execution_count": 27
        }
      ]
    },
    {
      "cell_type": "code",
      "metadata": {
        "id": "hs3vvyezuNlX",
        "colab_type": "code",
        "outputId": "f7264502-1eb3-4a7d-93a0-c22b25b2692f",
        "colab": {
          "base_uri": "https://localhost:8080/",
          "height": 831
        }
      },
      "source": [
        "conn = sqlite3.connect(\"climb_weather.db\")\n",
        "df = pd.read_sql_query(\"select route, sum(attempted), sum(succeeded), avg(succeeded_rate) from fin group by route order by avg(succeeded_rate) desc;\", conn)\n",
        "ax = df.plot.bar(x='route', y='avg(succeeded_rate)', rot=0, figsize=(15,5))\n",
        "ax.set_xticklabels(df['route'], rotation=90)"
      ],
      "execution_count": 0,
      "outputs": [
        {
          "output_type": "execute_result",
          "data": {
            "text/plain": [
              "[Text(0, 0, 'Tahoma Cleaver'),\n",
              " Text(0, 0, 'Ptarmigan RIngraham Directge'),\n",
              " Text(0, 0, 'Kautz Glacier'),\n",
              " Text(0, 0, 'Curtis RIngraham Directge'),\n",
              " Text(0, 0, 'Success Cleaver'),\n",
              " Text(0, 0, 'Emmons-Winthrop'),\n",
              " Text(0, 0, 'Liberty RIngraham Directge'),\n",
              " Text(0, 0, 'Little Tahoma'),\n",
              " Text(0, 0, 'Disappointment Cleaver'),\n",
              " Text(0, 0, 'Tahoma Glacier'),\n",
              " Text(0, 0, 'Mowich Face'),\n",
              " Text(0, 0, 'Kautz Cleaver'),\n",
              " Text(0, 0, 'Fuhrers Finger'),\n",
              " Text(0, 0, 'Ingraham Direct'),\n",
              " Text(0, 0, 'Gibralter Ledges'),\n",
              " Text(0, 0, 'Gibralter Chute'),\n",
              " Text(0, 0, 'Nisqually Glacier'),\n",
              " Text(0, 0, 'Sunset RIngraham Directge'),\n",
              " Text(0, 0, 'Unknown'),\n",
              " Text(0, 0, 'Wilson Headwall')]"
            ]
          },
          "metadata": {
            "tags": []
          },
          "execution_count": 28
        },
        {
          "output_type": "display_data",
          "data": {
            "image/png": "[encoded data removed]",
            "text/plain": [
              "<Figure size 1080x360 with 1 Axes>"
            ]
          },
          "metadata": {
            "tags": []
          }
        }
      ]
    },
    {
      "cell_type": "code",
      "metadata": {
        "id": "yIWFML1mEQT6",
        "colab_type": "code",
        "outputId": "bf0062d8-ea1b-489c-e9de-e729b98322df",
        "colab": {
          "base_uri": "https://localhost:8080/",
          "height": 831
        }
      },
      "source": [
        "ax = df.plot.bar(x='route', y='avg(succeeded_rate)', rot=0, figsize=(15,5))\n",
        "ax.set_xticklabels(df['route'], rotation=90)"
      ],
      "execution_count": 0,
      "outputs": [
        {
          "output_type": "execute_result",
          "data": {
            "text/plain": [
              "[Text(0, 0, 'Tahoma Cleaver'),\n",
              " Text(0, 0, 'Ptarmigan RIngraham Directge'),\n",
              " Text(0, 0, 'Kautz Glacier'),\n",
              " Text(0, 0, 'Curtis RIngraham Directge'),\n",
              " Text(0, 0, 'Success Cleaver'),\n",
              " Text(0, 0, 'Emmons-Winthrop'),\n",
              " Text(0, 0, 'Liberty RIngraham Directge'),\n",
              " Text(0, 0, 'Little Tahoma'),\n",
              " Text(0, 0, 'Disappointment Cleaver'),\n",
              " Text(0, 0, 'Tahoma Glacier'),\n",
              " Text(0, 0, 'Mowich Face'),\n",
              " Text(0, 0, 'Kautz Cleaver'),\n",
              " Text(0, 0, 'Fuhrers Finger'),\n",
              " Text(0, 0, 'Ingraham Direct'),\n",
              " Text(0, 0, 'Gibralter Ledges'),\n",
              " Text(0, 0, 'Gibralter Chute'),\n",
              " Text(0, 0, 'Nisqually Glacier'),\n",
              " Text(0, 0, 'Sunset RIngraham Directge'),\n",
              " Text(0, 0, 'Unknown'),\n",
              " Text(0, 0, 'Wilson Headwall')]"
            ]
          },
          "metadata": {
            "tags": []
          },
          "execution_count": 29
        },
        {
          "output_type": "display_data",
          "data": {
            "image/png": "[encoded data removed]",
            "text/plain": [
              "<Figure size 1080x360 with 1 Axes>"
            ]
          },
          "metadata": {
            "tags": []
          }
        }
      ]
    },
    {
      "cell_type": "markdown",
      "metadata": {
        "id": "vZrbPjEj2B1G",
        "colab_type": "text"
      },
      "source": [
        "Cleaning duplicated route name"
      ]
    },
    {
      "cell_type": "code",
      "metadata": {
        "id": "43RQm1jc0FED",
        "colab_type": "code",
        "outputId": "aedcdd5f-6d8a-443b-fd40-de6609c848e9",
        "colab": {
          "base_uri": "https://localhost:8080/",
          "height": 34
        }
      },
      "source": [
        "conn = sqlite3.connect(\"climb_weather.db\")\n",
        "try:\n",
        "  conn.execute('''\n",
        "      UPDATE fin SET route = 'Fuhrers Finger' where route like 'Fuhrer%';''')\n",
        "  print(\"fin Table updated successfully\")\n",
        "except Exception as e:\n",
        "  print(str(e))\n",
        "  print('fin Table updated failed!!!')\n",
        "finally:\n",
        "  conn.commit()\n",
        "  conn.close()"
      ],
      "execution_count": 0,
      "outputs": [
        {
          "output_type": "stream",
          "text": [
            "fin Table updated successfully\n"
          ],
          "name": "stdout"
        }
      ]
    },
    {
      "cell_type": "code",
      "metadata": {
        "id": "bLaOLXtIu60A",
        "colab_type": "code",
        "outputId": "b5fcf415-200f-4df4-b0fb-ad3f5a579f00",
        "colab": {
          "base_uri": "https://localhost:8080/",
          "height": 639
        }
      },
      "source": [
        "conn = sqlite3.connect(\"climb_weather.db\")\n",
        "df = pd.read_sql_query(\"select route, sum(attempted), sum(succeeded), avg(succeeded_rate), wind_direct from fin group by route, wind_direct order by route;\", conn)\n",
        "df"
      ],
      "execution_count": 0,
      "outputs": [
        {
          "output_type": "execute_result",
          "data": {
            "text/html": [
              "<div>\n",
              "<style scoped>\n",
              "    .dataframe tbody tr th:only-of-type {\n",
              "        vertical-align: middle;\n",
              "    }\n",
              "\n",
              "    .dataframe tbody tr th {\n",
              "        vertical-align: top;\n",
              "    }\n",
              "\n",
              "    .dataframe thead th {\n",
              "        text-align: right;\n",
              "    }\n",
              "</style>\n",
              "<table border=\"1\" class=\"dataframe\">\n",
              "  <thead>\n",
              "    <tr style=\"text-align: right;\">\n",
              "      <th></th>\n",
              "      <th>route</th>\n",
              "      <th>sum(attempted)</th>\n",
              "      <th>sum(succeeded)</th>\n",
              "      <th>avg(succeeded_rate)</th>\n",
              "      <th>wind_direct</th>\n",
              "    </tr>\n",
              "  </thead>\n",
              "  <tbody>\n",
              "    <tr>\n",
              "      <th>0</th>\n",
              "      <td>Curtis RIngraham Directge</td>\n",
              "      <td>8.0</td>\n",
              "      <td>4.0</td>\n",
              "      <td>0.500000</td>\n",
              "      <td>N</td>\n",
              "    </tr>\n",
              "    <tr>\n",
              "      <th>1</th>\n",
              "      <td>Disappointment Cleaver</td>\n",
              "      <td>14928.0</td>\n",
              "      <td>7288.0</td>\n",
              "      <td>0.454808</td>\n",
              "      <td>N</td>\n",
              "    </tr>\n",
              "    <tr>\n",
              "      <th>2</th>\n",
              "      <td>Emmons-Winthrop</td>\n",
              "      <td>2907.0</td>\n",
              "      <td>1557.0</td>\n",
              "      <td>0.494398</td>\n",
              "      <td>N</td>\n",
              "    </tr>\n",
              "    <tr>\n",
              "      <th>3</th>\n",
              "      <td>Fuhrers Finger</td>\n",
              "      <td>180.0</td>\n",
              "      <td>26.0</td>\n",
              "      <td>0.135204</td>\n",
              "      <td>N</td>\n",
              "    </tr>\n",
              "    <tr>\n",
              "      <th>4</th>\n",
              "      <td>Gibralter Chute</td>\n",
              "      <td>6.0</td>\n",
              "      <td>0.0</td>\n",
              "      <td>0.000000</td>\n",
              "      <td>N</td>\n",
              "    </tr>\n",
              "    <tr>\n",
              "      <th>5</th>\n",
              "      <td>Gibralter Ledges</td>\n",
              "      <td>160.0</td>\n",
              "      <td>22.0</td>\n",
              "      <td>0.099206</td>\n",
              "      <td>N</td>\n",
              "    </tr>\n",
              "    <tr>\n",
              "      <th>6</th>\n",
              "      <td>Ingraham Direct</td>\n",
              "      <td>198.0</td>\n",
              "      <td>14.0</td>\n",
              "      <td>0.104762</td>\n",
              "      <td>N</td>\n",
              "    </tr>\n",
              "    <tr>\n",
              "      <th>7</th>\n",
              "      <td>Kautz Cleaver</td>\n",
              "      <td>34.0</td>\n",
              "      <td>12.0</td>\n",
              "      <td>0.269231</td>\n",
              "      <td>N</td>\n",
              "    </tr>\n",
              "    <tr>\n",
              "      <th>8</th>\n",
              "      <td>Kautz Glacier</td>\n",
              "      <td>1046.0</td>\n",
              "      <td>534.0</td>\n",
              "      <td>0.501869</td>\n",
              "      <td>N</td>\n",
              "    </tr>\n",
              "    <tr>\n",
              "      <th>9</th>\n",
              "      <td>Liberty RIngraham Directge</td>\n",
              "      <td>146.0</td>\n",
              "      <td>64.0</td>\n",
              "      <td>0.474359</td>\n",
              "      <td>N</td>\n",
              "    </tr>\n",
              "    <tr>\n",
              "      <th>10</th>\n",
              "      <td>Little Tahoma</td>\n",
              "      <td>294.0</td>\n",
              "      <td>112.0</td>\n",
              "      <td>0.456553</td>\n",
              "      <td>N</td>\n",
              "    </tr>\n",
              "    <tr>\n",
              "      <th>11</th>\n",
              "      <td>Mowich Face</td>\n",
              "      <td>12.0</td>\n",
              "      <td>4.0</td>\n",
              "      <td>0.333333</td>\n",
              "      <td>N</td>\n",
              "    </tr>\n",
              "    <tr>\n",
              "      <th>12</th>\n",
              "      <td>Nisqually Glacier</td>\n",
              "      <td>28.0</td>\n",
              "      <td>0.0</td>\n",
              "      <td>0.000000</td>\n",
              "      <td>N</td>\n",
              "    </tr>\n",
              "    <tr>\n",
              "      <th>13</th>\n",
              "      <td>Ptarmigan RIngraham Directge</td>\n",
              "      <td>38.0</td>\n",
              "      <td>18.0</td>\n",
              "      <td>0.506667</td>\n",
              "      <td>N</td>\n",
              "    </tr>\n",
              "    <tr>\n",
              "      <th>14</th>\n",
              "      <td>Success Cleaver</td>\n",
              "      <td>14.0</td>\n",
              "      <td>4.0</td>\n",
              "      <td>0.500000</td>\n",
              "      <td>N</td>\n",
              "    </tr>\n",
              "    <tr>\n",
              "      <th>15</th>\n",
              "      <td>Sunset RIngraham Directge</td>\n",
              "      <td>4.0</td>\n",
              "      <td>0.0</td>\n",
              "      <td>0.000000</td>\n",
              "      <td>N</td>\n",
              "    </tr>\n",
              "    <tr>\n",
              "      <th>16</th>\n",
              "      <td>Tahoma Cleaver</td>\n",
              "      <td>6.0</td>\n",
              "      <td>6.0</td>\n",
              "      <td>1.000000</td>\n",
              "      <td>N</td>\n",
              "    </tr>\n",
              "    <tr>\n",
              "      <th>17</th>\n",
              "      <td>Tahoma Glacier</td>\n",
              "      <td>22.0</td>\n",
              "      <td>8.0</td>\n",
              "      <td>0.404762</td>\n",
              "      <td>N</td>\n",
              "    </tr>\n",
              "    <tr>\n",
              "      <th>18</th>\n",
              "      <td>Unknown</td>\n",
              "      <td>6.0</td>\n",
              "      <td>0.0</td>\n",
              "      <td>0.000000</td>\n",
              "      <td>N</td>\n",
              "    </tr>\n",
              "    <tr>\n",
              "      <th>19</th>\n",
              "      <td>Wilson Headwall</td>\n",
              "      <td>10.0</td>\n",
              "      <td>0.0</td>\n",
              "      <td>0.000000</td>\n",
              "      <td>N</td>\n",
              "    </tr>\n",
              "  </tbody>\n",
              "</table>\n",
              "</div>"
            ],
            "text/plain": [
              "                           route  sum(attempted)  sum(succeeded)  \\\n",
              "0      Curtis RIngraham Directge             8.0             4.0   \n",
              "1         Disappointment Cleaver         14928.0          7288.0   \n",
              "2                Emmons-Winthrop          2907.0          1557.0   \n",
              "3                 Fuhrers Finger           180.0            26.0   \n",
              "4                Gibralter Chute             6.0             0.0   \n",
              "5               Gibralter Ledges           160.0            22.0   \n",
              "6                Ingraham Direct           198.0            14.0   \n",
              "7                  Kautz Cleaver            34.0            12.0   \n",
              "8                  Kautz Glacier          1046.0           534.0   \n",
              "9     Liberty RIngraham Directge           146.0            64.0   \n",
              "10                 Little Tahoma           294.0           112.0   \n",
              "11                   Mowich Face            12.0             4.0   \n",
              "12             Nisqually Glacier            28.0             0.0   \n",
              "13  Ptarmigan RIngraham Directge            38.0            18.0   \n",
              "14               Success Cleaver            14.0             4.0   \n",
              "15     Sunset RIngraham Directge             4.0             0.0   \n",
              "16                Tahoma Cleaver             6.0             6.0   \n",
              "17                Tahoma Glacier            22.0             8.0   \n",
              "18                       Unknown             6.0             0.0   \n",
              "19               Wilson Headwall            10.0             0.0   \n",
              "\n",
              "    avg(succeeded_rate) wind_direct  \n",
              "0              0.500000           N  \n",
              "1              0.454808           N  \n",
              "2              0.494398           N  \n",
              "3              0.135204           N  \n",
              "4              0.000000           N  \n",
              "5              0.099206           N  \n",
              "6              0.104762           N  \n",
              "7              0.269231           N  \n",
              "8              0.501869           N  \n",
              "9              0.474359           N  \n",
              "10             0.456553           N  \n",
              "11             0.333333           N  \n",
              "12             0.000000           N  \n",
              "13             0.506667           N  \n",
              "14             0.500000           N  \n",
              "15             0.000000           N  \n",
              "16             1.000000           N  \n",
              "17             0.404762           N  \n",
              "18             0.000000           N  \n",
              "19             0.000000           N  "
            ]
          },
          "metadata": {
            "tags": []
          },
          "execution_count": 31
        }
      ]
    },
    {
      "cell_type": "code",
      "metadata": {
        "id": "2w2QaXQtnqK3",
        "colab_type": "code",
        "outputId": "5f15e0a6-c7c3-4809-ab1d-8d8e0bb25a60",
        "colab": {
          "base_uri": "https://localhost:8080/",
          "height": 284
        }
      },
      "source": [
        "df_climb_fin.boxplot()"
      ],
      "execution_count": 0,
      "outputs": [
        {
          "output_type": "execute_result",
          "data": {
            "text/plain": [
              "<matplotlib.axes._subplots.AxesSubplot at 0x7f6f6b575a58>"
            ]
          },
          "metadata": {
            "tags": []
          },
          "execution_count": 32
        },
        {
          "output_type": "display_data",
          "data": {
            "image/png": "[encoded data removed]",
            "text/plain": [
              "<Figure size 432x288 with 1 Axes>"
            ]
          },
          "metadata": {
            "tags": []
          }
        }
      ]
    },
    {
      "cell_type": "code",
      "metadata": {
        "id": "JGHu5Wd3n3Pk",
        "colab_type": "code",
        "outputId": "4bc62d81-39ff-425c-c778-90d093a411cc",
        "colab": {
          "base_uri": "https://localhost:8080/",
          "height": 666
        }
      },
      "source": [
        "f, ax = plt.subplots(1, 1, figsize = (20, 8))\n",
        "df_climb_fin.route.value_counts().plot(kind =\"bar\", ax = ax)"
      ],
      "execution_count": 0,
      "outputs": [
        {
          "output_type": "execute_result",
          "data": {
            "text/plain": [
              "<matplotlib.axes._subplots.AxesSubplot at 0x7f6f6b39fbe0>"
            ]
          },
          "metadata": {
            "tags": []
          },
          "execution_count": 33
        },
        {
          "output_type": "display_data",
          "data": {
            "image/png": "[encoded data removed]",
            "text/plain": [
              "<Figure size 1440x576 with 1 Axes>"
            ]
          },
          "metadata": {
            "tags": []
          }
        }
      ]
    },
    {
      "cell_type": "code",
      "metadata": {
        "id": "cVz14e9yn7ZR",
        "colab_type": "code",
        "outputId": "f5c7c243-44f3-4177-b1d8-5644c395cebf",
        "colab": {
          "base_uri": "https://localhost:8080/",
          "height": 265
        }
      },
      "source": [
        "plt.hist(df_climb_fin['humidity'], 70)\n",
        "plt.show()"
      ],
      "execution_count": 0,
      "outputs": [
        {
          "output_type": "display_data",
          "data": {
            "image/png": "[encoded data removed]",
            "text/plain": [
              "<Figure size 432x288 with 1 Axes>"
            ]
          },
          "metadata": {
            "tags": []
          }
        }
      ]
    },
    {
      "cell_type": "code",
      "metadata": {
        "id": "najxD8wqoFmC",
        "colab_type": "code",
        "outputId": "d37b33f2-301f-45a1-a540-479851adc0cf",
        "colab": {
          "base_uri": "https://localhost:8080/",
          "height": 265
        }
      },
      "source": [
        "plt.hist(df_climb_fin['succeeded_rate'], 50)\n",
        "plt.show()"
      ],
      "execution_count": 0,
      "outputs": [
        {
          "output_type": "display_data",
          "data": {
            "image/png": "[encoded data removed]",
            "text/plain": [
              "<Figure size 432x288 with 1 Axes>"
            ]
          },
          "metadata": {
            "tags": []
          }
        }
      ]
    },
    {
      "cell_type": "code",
      "metadata": {
        "id": "s2J59GM_o8Vn",
        "colab_type": "code",
        "outputId": "77ea83cc-af94-437b-a425-3f7280df17c7",
        "colab": {
          "base_uri": "https://localhost:8080/",
          "height": 265
        }
      },
      "source": [
        "plt.hist(df_climb_fin['battery_v'], 50)\n",
        "plt.show()"
      ],
      "execution_count": 0,
      "outputs": [
        {
          "output_type": "display_data",
          "data": {
            "image/png": "[encoded data removed]",
            "text/plain": [
              "<Figure size 432x288 with 1 Axes>"
            ]
          },
          "metadata": {
            "tags": []
          }
        }
      ]
    },
    {
      "cell_type": "code",
      "metadata": {
        "id": "yHZcPHOgpDiV",
        "colab_type": "code",
        "outputId": "1f8e69b5-6e92-40eb-eaa7-e9eeea2db054",
        "colab": {
          "base_uri": "https://localhost:8080/",
          "height": 265
        }
      },
      "source": [
        "plt.hist(df_climb_fin['temperature'], 50)\n",
        "plt.show()"
      ],
      "execution_count": 0,
      "outputs": [
        {
          "output_type": "display_data",
          "data": {
            "image/png": "[encoded data removed]",
            "text/plain": [
              "<Figure size 432x288 with 1 Axes>"
            ]
          },
          "metadata": {
            "tags": []
          }
        }
      ]
    },
    {
      "cell_type": "code",
      "metadata": {
        "id": "NpCF_G5tpHhi",
        "colab_type": "code",
        "outputId": "885e985a-3a25-4d0a-bda6-da94b0b1611f",
        "colab": {
          "base_uri": "https://localhost:8080/",
          "height": 265
        }
      },
      "source": [
        "plt.hist(df_climb_fin['wind_speed'], 50)\n",
        "plt.show()"
      ],
      "execution_count": 0,
      "outputs": [
        {
          "output_type": "display_data",
          "data": {
            "image/png": "[encoded data removed]",
            "text/plain": [
              "<Figure size 432x288 with 1 Axes>"
            ]
          },
          "metadata": {
            "tags": []
          }
        }
      ]
    },
    {
      "cell_type": "code",
      "metadata": {
        "id": "1cvlim5XpLgK",
        "colab_type": "code",
        "outputId": "38dfef8d-2543-48d9-9258-88c8607c993d",
        "colab": {
          "base_uri": "https://localhost:8080/",
          "height": 70
        }
      },
      "source": [
        "from sklearn import preprocessing\n",
        "\n",
        "scaler = preprocessing.StandardScaler()\n",
        "num_cols= df_climb_fin.columns[df_climb_fin.dtypes.apply(lambda x: np.issubdtype(x, np.number))]\n",
        "#num_cols = df_climb_fin.columns[2:]\n",
        "print(num_cols)"
      ],
      "execution_count": 0,
      "outputs": [
        {
          "output_type": "stream",
          "text": [
            "Index(['succeeded_rate', 'battery_v', 'temperature', 'humidity', 'wind_speed',\n",
            "       'solar'],\n",
            "      dtype='object')\n"
          ],
          "name": "stdout"
        }
      ]
    },
    {
      "cell_type": "code",
      "metadata": {
        "id": "mir-Y3MipoG-",
        "colab_type": "code",
        "colab": {}
      },
      "source": [
        "standardized_df = scaler.fit_transform(df_climb_fin[num_cols])"
      ],
      "execution_count": 0,
      "outputs": []
    },
    {
      "cell_type": "code",
      "metadata": {
        "id": "4MsHu_cDpq3a",
        "colab_type": "code",
        "outputId": "6a1584df-8399-43ca-8adf-c43cb8fca3d4",
        "colab": {
          "base_uri": "https://localhost:8080/",
          "height": 140
        }
      },
      "source": [
        "print(standardized_df)"
      ],
      "execution_count": 0,
      "outputs": [
        {
          "output_type": "stream",
          "text": [
            "[[-0.99212255  1.85039349 -1.48800423 -1.27713684  1.78395727 -1.40060376]\n",
            " [-0.99212255  3.27055721 -0.95148081 -1.18901945 -0.89214875 -1.35648623]\n",
            " [-0.99212255 -0.59855032  0.68103586 -0.94280108  0.66766926 -0.97438664]\n",
            " ...\n",
            " [-0.129179   -0.59855032 -0.52546827  0.02733197 -0.71968423 -0.03330159]\n",
            " [-0.99212255 -0.32458168  0.39130962 -0.36749308 -0.358814   -0.07866319]\n",
            " [ 0.69780857 -0.79983337  0.77223766 -1.03774419 -0.32580325 -0.09538542]]\n"
          ],
          "name": "stdout"
        }
      ]
    },
    {
      "cell_type": "code",
      "metadata": {
        "id": "a7TDFUZ_puNb",
        "colab_type": "code",
        "colab": {}
      },
      "source": [
        "standardized_df = pd.DataFrame(standardized_df, columns = num_cols)"
      ],
      "execution_count": 0,
      "outputs": []
    },
    {
      "cell_type": "code",
      "metadata": {
        "id": "8_PV1colp0WT",
        "colab_type": "code",
        "outputId": "237118bf-bea2-423a-a09b-cca86619e8dd",
        "colab": {
          "base_uri": "https://localhost:8080/",
          "height": 284
        }
      },
      "source": [
        "standardized_df.boxplot()"
      ],
      "execution_count": 0,
      "outputs": [
        {
          "output_type": "execute_result",
          "data": {
            "text/plain": [
              "<matplotlib.axes._subplots.AxesSubplot at 0x7f6f6af981d0>"
            ]
          },
          "metadata": {
            "tags": []
          },
          "execution_count": 43
        },
        {
          "output_type": "display_data",
          "data": {
            "image/png": "[encoded data removed]",
            "text/plain": [
              "<Figure size 432x288 with 1 Axes>"
            ]
          },
          "metadata": {
            "tags": []
          }
        }
      ]
    },
    {
      "cell_type": "code",
      "metadata": {
        "id": "qKQLEnJpp_PA",
        "colab_type": "code",
        "outputId": "923b87d9-8d3c-42fd-ef25-3c3435b06407",
        "colab": {
          "base_uri": "https://localhost:8080/",
          "height": 484
        }
      },
      "source": [
        "f, ax = plt.subplots(1, 1, figsize=(10, 8))\n",
        "\n",
        "corr = df_climb_fin.corr()\n",
        "sns.heatmap(corr, cmap=\"coolwarm_r\", annot=True, ax=ax)\n",
        "ax.set_ylim(len(df_climb_fin.columns)-1, 0)\n",
        "plt.show()"
      ],
      "execution_count": 0,
      "outputs": [
        {
          "output_type": "display_data",
          "data": {
            "image/png": "[encoded data removed]",
            "text/plain": [
              "<Figure size 720x576 with 2 Axes>"
            ]
          },
          "metadata": {
            "tags": []
          }
        }
      ]
    },
    {
      "cell_type": "code",
      "metadata": {
        "id": "OhDR90Pv2UWW",
        "colab_type": "code",
        "colab": {}
      },
      "source": [
        "!apt-get install openjdk-8-jdk-headless -qq > /dev/null\n",
        "!wget -q https://www-us.apache.org/dist/spark/spark-2.4.4/spark-2.4.4-bin-hadoop2.7.tgz\n",
        "!tar xf spark-2.4.4-bin-hadoop2.7.tgz\n",
        "!pip install -q findspark"
      ],
      "execution_count": 0,
      "outputs": []
    },
    {
      "cell_type": "markdown",
      "metadata": {
        "id": "djg2ABPt3Srt",
        "colab_type": "text"
      },
      "source": [
        ""
      ]
    },
    {
      "cell_type": "code",
      "metadata": {
        "id": "SmGVFRTE2a-1",
        "colab_type": "code",
        "colab": {}
      },
      "source": [
        "import os\n",
        "os.environ[\"SPARK_HOME\"] = \"/content/spark-2.4.4-bin-hadoop2.7\"\n",
        "os.environ[\"JAVA_HOME\"] = \"/usr/lib/jvm/java-8-openjdk-amd64\""
      ],
      "execution_count": 0,
      "outputs": []
    },
    {
      "cell_type": "code",
      "metadata": {
        "id": "N1qephHD2gUd",
        "colab_type": "code",
        "outputId": "0a14d695-57f6-40b0-d2dc-32859867b3b5",
        "colab": {
          "base_uri": "https://localhost:8080/",
          "height": 34
        }
      },
      "source": [
        "import findspark\n",
        "findspark.init()\n",
        "from pyspark.sql import SparkSession\n",
        "spark = SparkSession.builder.master(\"local[*]\").getOrCreate()\n",
        "print(spark)"
      ],
      "execution_count": 0,
      "outputs": [
        {
          "output_type": "stream",
          "text": [
            "<pyspark.sql.session.SparkSession object at 0x7f6f659ee048>\n"
          ],
          "name": "stdout"
        }
      ]
    },
    {
      "cell_type": "code",
      "metadata": {
        "id": "m606eNuQgA82",
        "colab_type": "code",
        "outputId": "e0d583b9-253a-42f8-cf04-f494b6fd63f3",
        "colab": {
          "base_uri": "https://localhost:8080/",
          "height": 52
        }
      },
      "source": [
        "!ls"
      ],
      "execution_count": 0,
      "outputs": [
        {
          "output_type": "stream",
          "text": [
            "climb_weather.db  sample_data\t\t     spark-2.4.4-bin-hadoop2.7.tgz\n",
            "drive\t\t  spark-2.4.4-bin-hadoop2.7  spark-2.4.4-bin-hadoop2.7.tgz.1\n"
          ],
          "name": "stdout"
        }
      ]
    },
    {
      "cell_type": "code",
      "metadata": {
        "id": "LMxe5KZUA9t7",
        "colab_type": "code",
        "colab": {}
      },
      "source": [
        "df_climb_fin1 = spark.createDataFrame(df_climb_fin)"
      ],
      "execution_count": 0,
      "outputs": []
    },
    {
      "cell_type": "code",
      "metadata": {
        "id": "al8Pc_xY2n22",
        "colab_type": "code",
        "colab": {}
      },
      "source": [
        "from pyspark.ml.feature import VectorAssembler\n",
        "from pyspark.ml.regression import LinearRegression"
      ],
      "execution_count": 0,
      "outputs": []
    },
    {
      "cell_type": "code",
      "metadata": {
        "id": "Gok1FXWugYkE",
        "colab_type": "code",
        "outputId": "e4026c81-2561-47cf-8e2a-0515d860b269",
        "colab": {
          "base_uri": "https://localhost:8080/",
          "height": 210
        }
      },
      "source": [
        "df_climb_fin1.printSchema()"
      ],
      "execution_count": 0,
      "outputs": [
        {
          "output_type": "stream",
          "text": [
            "root\n",
            " |-- date: string (nullable = true)\n",
            " |-- route: string (nullable = true)\n",
            " |-- succeeded_rate: double (nullable = true)\n",
            " |-- battery_v: double (nullable = true)\n",
            " |-- temperature: double (nullable = true)\n",
            " |-- humidity: double (nullable = true)\n",
            " |-- wind_speed: double (nullable = true)\n",
            " |-- wind_direct: string (nullable = true)\n",
            " |-- solar: double (nullable = true)\n",
            "\n"
          ],
          "name": "stdout"
        }
      ]
    },
    {
      "cell_type": "code",
      "metadata": {
        "id": "CePZZ8Ps3E-h",
        "colab_type": "code",
        "colab": {}
      },
      "source": [
        "#Input all the features in one vector column\n",
        "assembler = VectorAssembler(inputCols=['battery_v', 'temperature', 'humidity', 'wind_speed', 'solar'], outputCol = 'Attributes')\n",
        "#assembler = VectorAssembler(inputCols=['lstat'], outputCol = 'Attributes')\n",
        "\n",
        "output = assembler.transform(df_climb_fin1)\n",
        "\n",
        "#Input vs Output\n"
      ],
      "execution_count": 0,
      "outputs": []
    },
    {
      "cell_type": "code",
      "metadata": {
        "id": "UE2iLBUcC_QE",
        "colab_type": "code",
        "outputId": "aeb116f2-a8da-455e-8a9a-99e89ad7d25a",
        "colab": {
          "base_uri": "https://localhost:8080/",
          "height": 474
        }
      },
      "source": [
        "#Input vs Output\n",
        "finalized_data = output.select(\"Attributes\",\"succeeded_rate\") \n",
        "finalized_data.show()"
      ],
      "execution_count": 0,
      "outputs": [
        {
          "output_type": "stream",
          "text": [
            "+--------------------+--------------+\n",
            "|          Attributes|succeeded_rate|\n",
            "+--------------------+--------------+\n",
            "|[13.64375,26.3216...|           0.0|\n",
            "|[13.74958333,31.3...|           0.0|\n",
            "|[13.46125,46.4479...|           0.0|\n",
            "|[13.53208333,40.9...|           0.0|\n",
            "|[13.21625,38.2604...|           0.0|\n",
            "|[13.5775,31.82291...|           0.0|\n",
            "|[13.5775,31.82291...|           0.0|\n",
            "|[13.505,36.064166...|           0.0|\n",
            "|[13.505,36.064166...|           0.0|\n",
            "|[13.48333333,38.7...|           0.0|\n",
            "|[13.50333333,38.3...|   0.333333333|\n",
            "|[13.50458333,35.1...|           0.5|\n",
            "|[13.51625,27.3220...|           0.0|\n",
            "|[13.51625,27.3220...|          0.25|\n",
            "|[13.51625,27.3220...|           0.0|\n",
            "|[13.03708333,32.3...|          0.75|\n",
            "|[13.03708333,32.3...|   0.545454545|\n",
            "|[13.55375,36.0995...|           0.0|\n",
            "|[13.55375,36.0995...|   0.090909091|\n",
            "|[13.5425,30.87583...|           0.0|\n",
            "+--------------------+--------------+\n",
            "only showing top 20 rows\n",
            "\n"
          ],
          "name": "stdout"
        }
      ]
    },
    {
      "cell_type": "code",
      "metadata": {
        "id": "d2NNgtn7BWxx",
        "colab_type": "code",
        "colab": {}
      },
      "source": [
        "#Split training and testing data\n",
        "train_data,test_data = finalized_data.randomSplit([0.7,0.3])\n",
        "\n",
        "\n",
        "regressor = LinearRegression(featuresCol = 'Attributes', labelCol = 'succeeded_rate')\n",
        "\n"
      ],
      "execution_count": 0,
      "outputs": []
    },
    {
      "cell_type": "code",
      "metadata": {
        "id": "iLXywjhsEiZP",
        "colab_type": "code",
        "colab": {}
      },
      "source": [
        "#Learn to fit the model from training set\n",
        "regressor = regressor.fit(train_data)"
      ],
      "execution_count": 0,
      "outputs": []
    },
    {
      "cell_type": "code",
      "metadata": {
        "id": "kzf2KLgeHtGd",
        "colab_type": "code",
        "colab": {}
      },
      "source": [
        ""
      ],
      "execution_count": 0,
      "outputs": []
    },
    {
      "cell_type": "code",
      "metadata": {
        "id": "kwe1VT0UNOIN",
        "colab_type": "code",
        "outputId": "254c32bd-826e-4e93-d7db-08a6a519b7db",
        "colab": {
          "base_uri": "https://localhost:8080/",
          "height": 474
        }
      },
      "source": [
        "\n",
        "#To predict the prices on testing set\n",
        "pred = regressor.evaluate(test_data)\n",
        "\n",
        "#Predict the model\n",
        "pred.predictions.show()"
      ],
      "execution_count": 0,
      "outputs": [
        {
          "output_type": "stream",
          "text": [
            "+--------------------+--------------+--------------------+\n",
            "|          Attributes|succeeded_rate|          prediction|\n",
            "+--------------------+--------------+--------------------+\n",
            "|[13.16,32.31,100....|           0.0|0.053335540858988395|\n",
            "|[13.3775,51.13958...|   0.916666667| 0.44304820280809665|\n",
            "|[13.3775,51.13958...|           1.0| 0.44304820280809665|\n",
            "|[13.39666667,54.9...|           0.0|  0.5472268539592431|\n",
            "|[13.39666667,54.9...|           0.0|  0.5472268539592431|\n",
            "|[13.39666667,54.9...|           1.0|  0.5472268539592431|\n",
            "|[13.39666667,54.9...|           1.0|  0.5472268539592431|\n",
            "|[13.4,24.97708333...|           0.0| 0.38229071393875813|\n",
            "|[13.4,24.97708333...|           0.0| 0.38229071393875813|\n",
            "|[13.4,24.97708333...|           0.0| 0.38229071393875813|\n",
            "|[13.40291667,53.1...|           1.0| 0.39476630826283277|\n",
            "|[13.41041667,51.1...|           0.0| 0.46103300953510207|\n",
            "|[13.41125,56.1537...|           0.0| 0.49704763865792767|\n",
            "|[13.41125,56.1537...|           0.0| 0.49704763865792767|\n",
            "|[13.41125,56.1537...|           0.0| 0.49704763865792767|\n",
            "|[13.41125,56.1537...|           0.0| 0.49704763865792767|\n",
            "|[13.41125,56.1537...|   0.583333333| 0.49704763865792767|\n",
            "|[13.41125,56.1537...|           1.0| 0.49704763865792767|\n",
            "|[13.41125,56.1537...|           1.0| 0.49704763865792767|\n",
            "|[13.41125,56.1537...|           1.0| 0.49704763865792767|\n",
            "+--------------------+--------------+--------------------+\n",
            "only showing top 20 rows\n",
            "\n"
          ],
          "name": "stdout"
        }
      ]
    },
    {
      "cell_type": "code",
      "metadata": {
        "id": "HOniC4TWFDnf",
        "colab_type": "code",
        "colab": {}
      },
      "source": [
        ""
      ],
      "execution_count": 0,
      "outputs": []
    },
    {
      "cell_type": "code",
      "metadata": {
        "id": "Eja1BLiaTThT",
        "colab_type": "code",
        "outputId": "3a5720a7-1de4-4296-f771-a244fc083ba9",
        "colab": {
          "base_uri": "https://localhost:8080/",
          "height": 52
        }
      },
      "source": [
        "#coefficient of the regression model\n",
        "coeff = regressor.coefficients\n",
        "\n",
        "#X and Y intercept\n",
        "intr = regressor.intercept\n",
        "\n",
        "print (\"The coefficient of the model is : %a\" %coeff)\n",
        "print (\"The Intercept of the model is : %f\" %intr)\n"
      ],
      "execution_count": 0,
      "outputs": [
        {
          "output_type": "stream",
          "text": [
            "The coefficient of the model is : DenseVector([0.3508, 0.0025, 0.0015, -0.002, 0.0012])\n",
            "The Intercept of the model is : -4.748641\n"
          ],
          "name": "stdout"
        }
      ]
    },
    {
      "cell_type": "code",
      "metadata": {
        "id": "Zt44syD4JDWY",
        "colab_type": "code",
        "colab": {}
      },
      "source": [
        "from pyspark.ml.evaluation import RegressionEvaluator\n",
        "eval = RegressionEvaluator(labelCol=\"succeeded_rate\", predictionCol=\"prediction\", metricName=\"rmse\")\n"
      ],
      "execution_count": 0,
      "outputs": []
    },
    {
      "cell_type": "code",
      "metadata": {
        "id": "7yujHH9HYZKv",
        "colab_type": "code",
        "outputId": "011c661b-fc79-40dd-d6c2-f979e87240d2",
        "colab": {
          "base_uri": "https://localhost:8080/",
          "height": 87
        }
      },
      "source": [
        "# Root Mean Square Error\n",
        "rmse = eval.evaluate(pred.predictions)\n",
        "print(\"RMSE: %.3f\" % rmse)\n",
        "\n",
        "# Mean Square Error\n",
        "mse = eval.evaluate(pred.predictions, {eval.metricName: \"mse\"})\n",
        "print(\"MSE: %.3f\" % mse)\n",
        "\n",
        "# Mean Absolute Error\n",
        "mae = eval.evaluate(pred.predictions, {eval.metricName: \"mae\"})\n",
        "print(\"MAE: %.3f\" % mae)\n",
        "\n",
        "# r2 - coefficient of determination\n",
        "r2 = eval.evaluate(pred.predictions, {eval.metricName: \"r2\"})\n",
        "print(\"r2: %.3f\" %r2)\n"
      ],
      "execution_count": 0,
      "outputs": [
        {
          "output_type": "stream",
          "text": [
            "RMSE: 0.420\n",
            "MSE: 0.177\n",
            "MAE: 0.385\n",
            "r2: 0.113\n"
          ],
          "name": "stdout"
        }
      ]
    }
  ]
}